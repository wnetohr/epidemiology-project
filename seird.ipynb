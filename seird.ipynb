{
 "cells": [
  {
   "cell_type": "markdown",
   "id": "33dd04f1",
   "metadata": {},
   "source": [
    "## Epidemiological Simulation Project Using the SEIRD Model"
   ]
  },
  {
   "cell_type": "code",
   "execution_count": 11,
   "id": "3bd8316b",
   "metadata": {},
   "outputs": [],
   "source": [
    "# Imports\n",
    "from scipy.integrate import odeint\n",
    "import numpy as np\n",
    "import plotly.graph_objects as go\n",
    "from ipywidgets import interact\n",
    "import os\n",
    "import plotly.io as pio\n",
    "from ipywidgets import IntSlider, FloatSlider, Layout, Dropdown, interact_manual, VBox, HBox\n",
    "import ipywidgets as widgets\n",
    "from ipywidgets import IntSlider, FloatSlider, Layout\n",
    "\n",
    "# Plotly renderer configuration\n",
    "pio.renderers.default = \"plotly_mimetype+notebook\"\n",
    "\n",
    "# Functions\n",
    "def ode_model(z, t, beta, sigma, gamma, mu):\n",
    "    S, E, I, R, D = z\n",
    "    N = S + E + I + R + D\n",
    "    dSdt = -beta*S*I/N\n",
    "    dEdt = beta*S*I/N - sigma*E\n",
    "    dIdt = sigma*E - gamma*I - mu*I\n",
    "    dRdt = gamma*I\n",
    "    dDdt = mu*I\n",
    "    return [dSdt, dEdt, dIdt, dRdt, dDdt]\n",
    "\n",
    "def ode_solver(t, initial_conditions, params):\n",
    "    initE, initI, initR, initN, initD = initial_conditions\n",
    "    beta, sigma, gamma, mu = params\n",
    "    initS = initN - (initE + initI + initR + initD)\n",
    "    res = odeint(ode_model, [initS, initE, initI, initR, initD], t, args=(beta, sigma, gamma, mu))\n",
    "    return res\n",
    "\n",
    "def main(initE, initI, initR, initD, initN, beta, sigma, gamma, mu, days):\n",
    "    initial_conditions = [initE, initI, initR, initN, initD]\n",
    "    params = [beta, sigma, gamma, mu]\n",
    "    tspan = np.arange(0, days, 1)\n",
    "    sol = ode_solver(tspan, initial_conditions, params)\n",
    "    S, E, I, R, D = sol[:, 0], sol[:, 1], sol[:, 2], sol[:, 3], sol[:, 4]\n",
    "    \n",
    "    # Create traces\n",
    "    fig = go.Figure()\n",
    "    fig.add_trace(go.Scatter(x=tspan, y=S, mode='lines+markers', name='Susceptible'))\n",
    "    fig.add_trace(go.Scatter(x=tspan, y=E, mode='lines+markers', name='Exposed'))\n",
    "    fig.add_trace(go.Scatter(x=tspan, y=I, mode='lines+markers', name='Infected'))\n",
    "    fig.add_trace(go.Scatter(x=tspan, y=R, mode='lines+markers',name='Recovered'))\n",
    "    fig.add_trace(go.Scatter(x=tspan, y=D, mode='lines+markers',name='Death'))\n",
    "    \n",
    "    if days <= 30:\n",
    "        step = 1\n",
    "    elif days <= 90:\n",
    "        step = 7\n",
    "    else:\n",
    "        step = 30\n",
    "    \n",
    "    # Edit the layout\n",
    "    fig.update_layout(title='Simulation of SEIRD Model',\n",
    "                       xaxis_title='Day',\n",
    "                       yaxis_title='Counts',\n",
    "                       title_x=0.5,\n",
    "                       width=700, height=400,\n",
    "                       margin=dict(l=50, r=50, t=60, b=50)\n",
    "                     )\n",
    "    fig.update_xaxes(tickangle=-90, tickformat = None, tickmode='array', tickvals=np.arange(0, days + 1, step))\n",
    "    fig.show()\n"
   ]
  },
  {
   "cell_type": "markdown",
   "id": "27c2b356",
   "metadata": {},
   "source": [
    "### Running the simulation"
   ]
  },
  {
   "cell_type": "code",
   "execution_count": null,
   "id": "4cb178ff",
   "metadata": {},
   "outputs": [
    {
     "data": {
      "application/vnd.jupyter.widget-view+json": {
       "model_id": "a19e30d921b54d378e236bf9bba80b9a",
       "version_major": 2,
       "version_minor": 0
      },
      "text/plain": [
       "interactive(children=(IntSlider(value=10, description='Initial Exposed', layout=Layout(width='400px'), max=100…"
      ]
     },
     "metadata": {},
     "output_type": "display_data"
    }
   ],
   "source": [
    "\n",
    "\n",
    "# Default values for sliders\n",
    "initE = 10\n",
    "initI = 5\n",
    "initR = 0\n",
    "initD = 0\n",
    "initN = 100000\n",
    "beta = 0.5\n",
    "sigma = 0.2\n",
    "gamma = 0.1\n",
    "mu = 0.01\n",
    "days = 180\n",
    "\n",
    "# Simple style and layout for sliders\n",
    "style = {'description_width': '120px'}\n",
    "slider_layout = Layout(width='400px')\n",
    "\n",
    "interact(main, \n",
    "         initE=IntSlider(min=0, max=100000, step=1, value=initE, description='Initial Exposed', style=style, layout=slider_layout),\n",
    "         initI=IntSlider(min=0, max=100000, step=10, value=initI, description='Initial Infected', style=style, layout=slider_layout),\n",
    "         initR=IntSlider(min=0, max=100000, step=10, value=initR, description='Initial Recovered', style=style, layout=slider_layout),\n",
    "         initD=IntSlider(min=0, max=100000, step=10, value=initD, description='Initial Deaths', style=style, layout=slider_layout),\n",
    "         initN=IntSlider(min=0, max=1380000000, step=1000, value=initN, description='Initial Population', style=style, layout=slider_layout),\n",
    "         beta=FloatSlider(min=0, max=4, step=0.01, value=beta, description='Infection rate', style=style, layout=slider_layout),\n",
    "         sigma=FloatSlider(min=0, max=4, step=0.01, value=sigma, description='Incubation rate', style=style, layout=slider_layout),\n",
    "         gamma=FloatSlider(min=0, max=4, step=0.01, value=gamma, description='Recovery rate', style=style, layout=slider_layout),\n",
    "         mu=FloatSlider(min=0, max=1, step=0.01, value=mu, description='Mortality rate', style=style, layout=slider_layout),\n",
    "         days=IntSlider(min=1, max=600, step=7, value=days, description='Days', style=style, layout=slider_layout)\n",
    "        );"
   ]
  },
  {
   "cell_type": "code",
   "execution_count": null,
   "id": "08a2f3d2",
   "metadata": {},
   "outputs": [
    {
     "data": {
      "application/vnd.jupyter.widget-view+json": {
       "model_id": "c8a617dec87a462ab68358a3f10fc527",
       "version_major": 2,
       "version_minor": 0
      },
      "text/plain": [
       "interactive(children=(Dropdown(description='Disease:', index=1, layout=Layout(width='400px'), options=('Custom…"
      ]
     },
     "metadata": {},
     "output_type": "display_data"
    }
   ],
   "source": [
    "# Presets de doenças\n",
    "disease_presets = {\n",
    "    'Custom': {'beta': 0.5, 'sigma': 0.2, 'gamma': 0.1, 'mu': 0.01},\n",
    "    'COVID-19 (Original)': {'beta': 0.5, 'sigma': 0.196, 'gamma': 0.1, 'mu': 0.02},\n",
    "    'COVID-19 (Delta)': {'beta': 0.8, 'sigma': 0.196, 'gamma': 0.1, 'mu': 0.015},\n",
    "    'COVID-19 (Omicron)': {'beta': 1.2, 'sigma': 0.33, 'gamma': 0.143, 'mu': 0.005},\n",
    "    'Influenza': {'beta': 0.7, 'sigma': 0.5, 'gamma': 0.143, 'mu': 0.001},\n",
    "    'Measles': {'beta': 1.8, 'sigma': 0.125, 'gamma': 0.143, 'mu': 0.002}\n",
    "}\n",
    "\n",
    "# Default values for sliders\n",
    "initE = 10\n",
    "initI = 5\n",
    "initR = 0\n",
    "initD = 0\n",
    "initN = 100000\n",
    "days = 180\n",
    "\n",
    "# Simple style and layout for sliders\n",
    "style = {'description_width': '120px'}\n",
    "slider_layout = Layout(width='400px')\n",
    "\n",
    "# Criar dropdown para seleção de doença\n",
    "disease_dropdown = Dropdown(\n",
    "    options=list(disease_presets.keys()),\n",
    "    value='COVID-19 (Original)',\n",
    "    description='Disease:',\n",
    "    style=style,\n",
    "    layout=slider_layout\n",
    ")\n",
    "\n",
    "def create_interactive_simulation():\n",
    "    # Sliders que sempre podem ser ajustados\n",
    "    initE_slider = IntSlider(min=0, max=100000, step=1, value=initE, description='Initial Exposed', style=style, layout=slider_layout)\n",
    "    initI_slider = IntSlider(min=0, max=100000, step=10, value=initI, description='Initial Infected', style=style, layout=slider_layout)\n",
    "    initR_slider = IntSlider(min=0, max=100000, step=10, value=initR, description='Initial Recovered', style=style, layout=slider_layout)\n",
    "    initD_slider = IntSlider(min=0, max=100000, step=10, value=initD, description='Initial Deaths', style=style, layout=slider_layout)\n",
    "    initN_slider = IntSlider(min=0, max=1380000000, step=1000, value=initN, description='Initial Population', style=style, layout=slider_layout)\n",
    "    days_slider = IntSlider(min=1, max=600, step=7, value=days, description='Days', style=style, layout=slider_layout)\n",
    "    \n",
    "    # Sliders de parâmetros epidemiológicos (serão atualizados baseado na doença)\n",
    "    beta_slider = FloatSlider(min=0, max=4, step=0.01, value=0.5, description='Infection rate (β)', style=style, layout=slider_layout)\n",
    "    sigma_slider = FloatSlider(min=0, max=2, step=0.001, value=0.196, description='Incubation rate (σ)', style=style, layout=slider_layout)\n",
    "    gamma_slider = FloatSlider(min=0, max=1, step=0.001, value=0.1, description='Recovery rate (γ)', style=style, layout=slider_layout)\n",
    "    mu_slider = FloatSlider(min=0, max=0.1, step=0.001, value=0.02, description='Mortality rate (μ)', style=style, layout=slider_layout)\n",
    "    \n",
    "    def update_disease_params(change):\n",
    "        if change['new'] != 'Custom':\n",
    "            preset = disease_presets[change['new']]\n",
    "            beta_slider.value = preset['beta']\n",
    "            sigma_slider.value = preset['sigma']\n",
    "            gamma_slider.value = preset['gamma']\n",
    "            mu_slider.value = preset['mu']\n",
    "    \n",
    "    disease_dropdown.observe(update_disease_params, names='value')\n",
    "    \n",
    "    # Função que será chamada quando os parâmetros mudarem\n",
    "    def run_simulation(disease, initE, initI, initR, initD, initN, beta, sigma, gamma, mu, days):\n",
    "        main(initE, initI, initR, initD, initN, beta, sigma, gamma, mu, days)\n",
    "    \n",
    "    # Interface interativa\n",
    "    interact_manual(run_simulation,\n",
    "                   disease=disease_dropdown,\n",
    "                   initE=initE_slider,\n",
    "                   initI=initI_slider, \n",
    "                   initR=initR_slider,\n",
    "                   initD=initD_slider,\n",
    "                   initN=initN_slider,\n",
    "                   beta=beta_slider,\n",
    "                   sigma=sigma_slider,\n",
    "                   gamma=gamma_slider,\n",
    "                   mu=mu_slider,\n",
    "                   days=days_slider)\n",
    "\n",
    "\n",
    "create_interactive_simulation()"
   ]
  },
  {
   "cell_type": "code",
   "execution_count": 15,
   "id": "e3dba4b1",
   "metadata": {},
   "outputs": [
    {
     "data": {
      "application/vnd.plotly.v1+json": {
       "config": {
        "plotlyServerURL": "https://plot.ly"
       },
       "data": [
        {
         "mode": "lines",
         "name": "Susceptible",
         "type": "scatter",
         "x": {
          "bdata": "AAABAAIAAwAEAAUABgAHAAgACQAKAAsADAANAA4ADwAQABEAEgATABQAFQAWABcAGAAZABoAGwAcAB0AHgAfACAAIQAiACMAJAAlACYAJwAoACkAKgArACwALQAuAC8AMAAxADIAMwA0ADUANgA3ADgAOQA6ADsAPAA9AD4APwBAAEEAQgBDAEQARQBGAEcASABJAEoASwBMAE0ATgBPAFAAUQBSAFMAVABVAFYAVwBYAFkAWgBbAFwAXQBeAF8AYABhAGIAYwBkAGUAZgBnAGgAaQBqAGsAbABtAG4AbwBwAHEAcgBzAHQAdQB2AHcAeAB5AHoAewB8AH0AfgB/AIAAgQCCAIMAhACFAIYAhwCIAIkAigCLAIwAjQCOAI8AkACRAJIAkwCUAJUAlgCXAJgAmQCaAJsAnACdAJ4AnwCgAKEAogCjAKQApQCmAKcAqACpAKoAqwCsAK0ArgCvALAAsQCyALMA",
          "dtype": "i2"
         },
         "y": {
          "bdata": "AAAAABBp+EAUR/I+4mj4QBjGmdWoaPhAEwf9/2Jo+ED0Q/hXD2j4QKJjZ+irZ/hAoi6XMTZn+EDT8Twjq2b4QF2UXA4HZvhATqZYkEVl+ECXuaB3YWT4QBmm6aFUY/hAY2N30xdi+EB0LrGGomD4QGKZ9LLqXvhAi0BcieRc+EBi4fMlglr4QBKCjTOzV/hARoougGRU+EDhpc1/f1D4QHqizLrpS/hAbp9vJYRG+EDHVDpdKkD4QBDgRMmxOPhAdHtKmugv+EB81Z2nlCX4QLACrCZyGfhACpWhOzIL+EBRemBjefr3QJm5Z7nd5vdASUziH+XP90A/FzVVA7X3QDMidAmYlfdA7A2aD+1w90Ck1bjSNEb3QHKl20aJFPdAF1sWoOva9kB8J7wvRZj2QAAwn95pS/ZABJro0Bzz9UB7VZvPF471QKEXZxYWG/VAVqcoEOOY9EAgGGpWbQb0QFzOPOPdYvNA6WYiyLKt8kAH4p7p2+bxQBwJFUPXDvFA2xf4OMkm8EAk3OyDGWHuQDxbGeptXexAMdC7nxRJ6kC7D7dNryvoQFGGYv+aDeZASpUNf3P340C2xrspifHhQGPfD7laA+BAlmfZX0lm3EAh0oa7KAvZQF0UH5pL+9VA9ZpInVg500DKUE/2/MTQQGcVwT3pNs1AfTDJHlNwyUBagSd/pirGQHQvra4LWcNAvoopt07uwEBjk/2uHbu9QGORq0NrNbpAwwBjj3s1t0CJpqYBqKe0QCvhJhG5erJA1gec0syfsEAxt0+/TxSuQPrPVQX3XatAhH9UUlEKqUBFSqbdCAqnQC4czh9CUKVAjZSMOznSo0BgBzfT64aiQMrTiwTPZqFAaKlqoZBroEBjGxDhxB+fQArMWFCcnp1AE9W3vCFMnECHOMmI+SGbQMZ+bkrAGppAULzQg+ExmUBkguiTdWOYQCwE4JglrJdAiI2wNBQJl0BSnDtUyneWQOwjokAn9pVA1FNAY1OClUDJ5UpCtRqVQBPQK0/ovZRA04vMNbVqlEBpq5toCyCUQKW/prL73JNAeM+worOgk0BchWiqeWqTQI31itOpOZNAL/Ue8rINk0A2RE0/FOaSQNmtBExbwpJA89RzPSKikkBx19BHDoWSQFsu1F3OapJAjuT9DBpTkkACwdR/sD2SQAMvwqBXKpJA6vSzWNsYkkDxba3lDAmSQGOI7kXC+pFAr4PltNXtkUCTX4g3JeKRQNKiFTaS15FA4r97IQHOkUBPOvIiWcWRQGOWfdSDvZFAU/lHAW22kUCMH91sArCRQGz6eKAzqpFAiIO0vfGkkUBodvJVL6CRQEoIA0bgm5FA+QKGlfmXkUBH/6FZcZSRQEXes5o+kZFA8PWkPFmOkUASnZ/puYuRQOSi4v5ZiZFAsbh6ezOHkUBO6a/wQIWRQN5I+nN9g5FATSdWkuSBkUApPdREcoCRQIQmRuYif5FAtbrqKfN9kUCvCwET4HyRQO0KK+3me5FAJ5uLRQV7kUDkmo3kOHqRQKB4Q8h/eZFAyXdQH9h4kUBVVE5EQHiRQM4po7m2d5FAlv28JTp3kUA05qhPyXaRQP40/RtjdpFAHpYOigZ2kUD1A2mxsnWRQMsRhr9mdZFAlLS69SF1kUBBQFen43SRQMrJ9DerdJFAfbvrGXh0kUDFhO/MSXSRQMEIzNwfdJFAM35B4PlzkUDa6vt313ORQJOZo024c5FAci4EE5xzkUAyO0iBgnORQExCR1hrc5FAa6vkXVZzkUD1y31dQ3ORQIvVZScyc5FAMQpukCJzkUBTWnlxFHORQOJKGqcHc5FAofA5EfxykUAtbMeS8XKRQGoEbxHocpFA1wJYdd9ykUCR5Oio13KRQGEqkZjQcpFA5jWYMspykUBS2/BmxHKRQH8ZESe/cpFA",
          "dtype": "f8"
         }
        },
        {
         "mode": "lines",
         "name": "Exposed",
         "type": "scatter",
         "x": {
          "bdata": "AAABAAIAAwAEAAUABgAHAAgACQAKAAsADAANAA4ADwAQABEAEgATABQAFQAWABcAGAAZABoAGwAcAB0AHgAfACAAIQAiACMAJAAlACYAJwAoACkAKgArACwALQAuAC8AMAAxADIAMwA0ADUANgA3ADgAOQA6ADsAPAA9AD4APwBAAEEAQgBDAEQARQBGAEcASABJAEoASwBMAE0ATgBPAFAAUQBSAFMAVABVAFYAVwBYAFkAWgBbAFwAXQBeAF8AYABhAGIAYwBkAGUAZgBnAGgAaQBqAGsAbABtAG4AbwBwAHEAcgBzAHQAdQB2AHcAeAB5AHoAewB8AH0AfgB/AIAAgQCCAIMAhACFAIYAhwCIAIkAigCLAIwAjQCOAI8AkACRAJIAkwCUAJUAlgCXAJgAmQCaAJsAnACdAJ4AnwCgAKEAogCjAKQApQCmAKcAqACpAKoAqwCsAK0ArgCvALAAsQCyALMA",
          "dtype": "i2"
         },
         "y": {
          "bdata": "AAAAAAAAJEC+yxIteJQlQKcginHrMShAlru2BNu+K0AewKhxXBwwQB2cl+zN1jJArtNJHGAcNkB1sYCLbAA6QABXXWjMmz5AJCwFRoUGQkDwUkB5dDxFQBke0uKVBUlANfG5ItJ7TUCoqzXV3l5RQMp2qNWvd1RAt/9L/Y4dWEAtkRMsaWlcQJwl3KVDvGBApVC7fqW2Y0BCgNeuBDhnQKSj6twDWGtAjQshiCcZcEBxwKT6oPNyQPczLGtSTnZAxiUx60A/ekD7Xb2fCeB+QDE9r6MyJ4JAhrCKkltWhUD3fcCHUhGJQEE/V0Xabo1A6jHclXlEkUA7wX6WkT6UQE9PREtYtpdAYGPGrWK+m0CVP2Y0mzWgQJ2UyFKW6aJArCdqdRYHpkDnvsq6mJqpQB5fyfLBsK1A4si21OcqsUCwMIAzacqzQIVfHJBUu7ZARTEgzVwAukCJcURAtJm9QBmroL4XwsBAfOTdty7cwkBBrdBZ1hTFQNGHTQngYsdAvihpHQ66yUBsh6bqLQvMQNjz4fCIRM5Al//4AFwp0EAovkSR6hDRQDarF5t6z9FAoBzG1d9c0kDYf1ku9rLSQMmYW1o2ztJAZEMOzQeu0kBLJfbxwlTSQLwQIB1lx9FASKHvIwUN0UBwIRpBIS7QQAoZDtHDZ85ACLdi+tROzECDGMuZkyLKQIKzKx0n8sdA6l+XQ0jKxUBragXUE7XDQB31CooYusFAyqxzQRy9v0AvYmYlSUu8QA8oO127IblAJChJlc1AtkBUrVXn16azQKs6VqHBULFA9Pke7vZ0rkDEpAgZxL6qQDvjczsVdadATKIGDfmNpEA4N8F0tf+hQK+RX+IAgp9AfrQGBkmSm0BXK9vXKiCYQPlkKJDyHJVAzCUvg1J7kkAKvLHnWC+QQFDDRO+7XIxAARnLz9rdiECSd9rkWtGFQLKmRwuKKINArKH+c4TWgEBOykAiB6B9QHAsK+9fFnpAUkM8eu3+dkDHTsYXxUp0QE6s4/nw7HFA1F4EYmK0b0ClBrRAhxFsQNnbP9Fk4GhA6SUCfFASZkCO8349lJpjQAJKQrcrbmFAFmEitxMHX0Az7WRuzKRbQNGVVeMhp1hA751sY5kBVkC7GZtOW6lTQHIBgyT6lFFAQYc3vIJ4T0CasVsOFjBMQFy38mc2RElA6KB4AwGqRkCiNpvo8VdEQLAxnCi1RUJA780Ak/5rQED4cCfyzYg9QDb0W3ackjpAMSFo4oLrN0A8tdM3yYo1QD1mf76+aDNAsuSCsJh+MUD1nYXEqowvQNM34YlGdSxAlxdqdZatKUDW1saJOy0nQHxnqU/F7CRAHBxhWpXlIkDIgu5zxhEhQElAneMt2B5Aj9sFiKvfG0CuP3PBozEZQJgsc3iXxhZAtdNnDdGXFEApi63qTZ8SQPsrQsWq1xBAlLKCZyR4DkCXM0mfWpALQJZepTws8AhAe+WIEpeQBkA2mVJoTWsEQFZv6AqjegJAmWcUeny5AEAxFNvgf0b+P75bpBuQZ/s/D3Vx56/O+D/D+QFQIXX2P0YQxDHPVPQ/f2m0Qzxo8j8Zh/nmc6rwPzYR9hf5Le4/sKJr/pZT6z9fmS3tc77oP/Y1HHr2Z+Y/ZBTNuidK5D+tzmdio1/iPziaf3eJo+A/JVwh8eIi3j/MwJuMvUrbP8gvumlst9g/fFVFSGli1j9mAGsJzUXUPy94JWNAXNI/k/SlEu6g0D+ipYTN7B7OP9JRkvzHR8s/9mlXQUO1yD84C4sf4mDGP/tPanzFRMQ/BU94nZxbwj9sEpicl6DAP1RdEVm2Hr4/vOjvAutHuz+Tc6CZqLW4Px7R4mF3YbY/0VI9GXxFtD+Z+EAlaVyyP9gQJihxobA/MGC6tHUgrj/43ycmrEmrP5zFHqljt6g/",
          "dtype": "f8"
         }
        },
        {
         "mode": "lines",
         "name": "Infected",
         "type": "scatter",
         "x": {
          "bdata": "AAABAAIAAwAEAAUABgAHAAgACQAKAAsADAANAA4ADwAQABEAEgATABQAFQAWABcAGAAZABoAGwAcAB0AHgAfACAAIQAiACMAJAAlACYAJwAoACkAKgArACwALQAuAC8AMAAxADIAMwA0ADUANgA3ADgAOQA6ADsAPAA9AD4APwBAAEEAQgBDAEQARQBGAEcASABJAEoASwBMAE0ATgBPAFAAUQBSAFMAVABVAFYAVwBYAFkAWgBbAFwAXQBeAF8AYABhAGIAYwBkAGUAZgBnAGgAaQBqAGsAbABtAG4AbwBwAHEAcgBzAHQAdQB2AHcAeAB5AHoAewB8AH0AfgB/AIAAgQCCAIMAhACFAIYAhwCIAIkAigCLAIwAjQCOAI8AkACRAJIAkwCUAJUAlgCXAJgAmQCaAJsAnACdAJ4AnwCgAKEAogCjAKQApQCmAKcAqACpAKoAqwCsAK0ArgCvALAAsQCyALMA",
          "dtype": "i2"
         },
         "y": {
          "bdata": "AAAAAAAAFEBmkuguAMMZQDU5p3fsuR9AOvcqHfoeI0DK8qIyAc0mQHUgC/LLCStAmNa0onX4L0Aps8NxXN8yQHw9ZP5iQzZAPzLA6nNAOkCpuWtakPI+QMgXHxI3PUJAhELmcDN/RUAcHRRgw1VJQDqqBg9i201AU0quRJqXUUD/bHEb7rpUQOzhwjI2bVhAGyPPVcTHXEAFJkSlLPRgQADYQHjz+GNATFp2yLiGZ0DCbgBqirVrQIM3zivMUHBAyPLw0/A1c0CTStEifZ12QGyqi8z1nXpAtA3S7ZhRf0Bmy+vAdWuCQPRijL6qqIVAMOmZruV0iUArRW1NweeNQAfoPRIrjpFAfaN1mcuYlECevY8fVCWYQNZqaNSSR5xAq+HPmdSKoEBMvntCB1SjQJipWgi6jKZAlgOAZT9DqkCtGufyo4auQJVtUvUks7FAc73krat4tEBFI1eW95q3QL8MKLYXILtApRdgA3oMv0AJVFQVGbHBQPVr+hMXEMRA109+vbOgxkCHVJFDE17JQF4fau65QMxA/hye7Go+z0Aw2uv6HSXRQILtRh90qtJAsFRNALMm1EBqDu4K3JDVQLfQWWn139ZAeZ8sQpEL2EDJatnWTgzZQFikFOdG3NlA+SWx81d32kAGayr9S9vaQL8omyHXB9tAKxDueXP+2kBRNPVsIsLaQLO7ZTgdV9pAQdAQc37C2UBcDN/k7AnZQITOB/FNM9hAOXLfh4NE10BXnlJ6N0PWQOkaA2O0NNVAVXZNMMsd1EA20/qmwwLTQJZ5B+pV59FAPlvNBKvO0EBGYTs6xXbPQA6Yqlw4X81AaEq87ARay0CZfoQKsGnJQHI3l0EIkMdAlM6hzz7OxUDfGeuc/yTEQEGcMGWHlMJAADbPybccwUDQaJZdUnq/QDE9scd06rxAWI6ZYDyIukCJXYvIzVG4QDMFsTYgRbZA65P6vA1gtEBETbqqYKCyQAV8YWneA7FAoqayVaAQr0BPHpRyE1esQPWK4WHd1qlAs/sVyuyLp0DSK61RXXKlQLiV7Fx7hqNAEUNGTsbEoUC2zaCS8SmgQLwPAHLJZZ1A35aSlHW5mkBG2LQbgkmYQPCWxL/qEJZAa4/7bwgLlEAv2U/yjDOSQB6YYj5+hpBA0uynZ2MAjkA6cvyMjjqLQKisLGdJtYhA6JqNoOFqhkBOtkj5HVaEQJD7o4c1coJATZ73Xce6gEC9sls8pVd+QJkTav1dg3tAdC6YhQvyeEBKUwBLlp12QPTdyGpwgHRAXYmbO4qVckBiLumyR9hwQKPQYyftiG5AZgweuYqsa0BEHPzUdRRpQO8wGYtdumZAWAZBGYSYZEAMdo/rsaliQFk5W7Ep6WBAI/ZH5TqlXkC3tc4lScRbQG3Yql5lKFlA2Teejh7LVkDj9jQ+nKZUQE9LjZuQtVJAb8hr0CvzUEDVteHwILZOQHnigT6S0ktAc24xYH00SUCX01uEX9VGQCbXQV1Rr0RAVvf0vPi8QkD83fyAe/lAQGD/BGDnwD5AbFV2XMnbO0D57HDfYjw5QCoWSCMn3DZAWlLEiya1NEDrAFn7/8EyQPcDIoTT/TBAjldYqWzILkCs/oyHT+IrQCgL/sEOQilAzZi44xfhJkBEWQmMdrkkQI8dspzFxSJAxCXgyiEBIUB1VnDhOs4eQNpj0wVr5xtAh5/HHI9GGUC0VgBMEeUWQKObYFP6vBRAFYzRpeLIEkADuT7o5AMRQDtlIGYj0w5AY9Nz+MjrC0ByX3YTc0oJQGjn9a+J6AZAWaSkrxPABEB/kEjqp8sCQCbklqRfBgFAHRpHjpTX/j8HEoaBxO/7P0Y2yuoFTvk/bDPRNr/r9j9mgWzw9cL0PyWJy8Y/zvI/Aglw+LQI8T/pU7cUyNvuP3+1skmN8+s/",
          "dtype": "f8"
         }
        },
        {
         "mode": "lines",
         "name": "Recovered",
         "type": "scatter",
         "x": {
          "bdata": "AAABAAIAAwAEAAUABgAHAAgACQAKAAsADAANAA4ADwAQABEAEgATABQAFQAWABcAGAAZABoAGwAcAB0AHgAfACAAIQAiACMAJAAlACYAJwAoACkAKgArACwALQAuAC8AMAAxADIAMwA0ADUANgA3ADgAOQA6ADsAPAA9AD4APwBAAEEAQgBDAEQARQBGAEcASABJAEoASwBMAE0ATgBPAFAAUQBSAFMAVABVAFYAVwBYAFkAWgBbAFwAXQBeAF8AYABhAGIAYwBkAGUAZgBnAGgAaQBqAGsAbABtAG4AbwBwAHEAcgBzAHQAdQB2AHcAeAB5AHoAewB8AH0AfgB/AIAAgQCCAIMAhACFAIYAhwCIAIkAigCLAIwAjQCOAI8AkACRAJIAkwCUAJUAlgCXAJgAmQCaAJsAnACdAJ4AnwCgAKEAogCjAKQApQCmAKcAqACpAKoAqwCsAK0ArgCvALAAsQCyALMA",
          "dtype": "i2"
         },
         "y": {
          "bdata": "AAAAAAAAAADAj43I/U3iP0W3teoKo/Q/Ts6TgbRNAUA+lwB66qsJQHhNTskrzxFAkOARW4eyF0DLN+N1UaceQDbwCR1lbiNA0S/BoJtFKEDPMN6kovotQMQ/wodvWjJAnD2UWWZRNkANmXTEnP06QAJBycCuP0BAlE5Mo1l+Q0CWEqcENlFHQMLQVuak0ktAPGZVItqQUECY+kN7eLFTQCxleU6uYFdA6S2Esca3W0CDdmicP2pgQKbyLBPmbGNAGF8nel74ZkBoBafzwiRrQIeEbvQsB3BAj9iO5yPrckCbjVferVF2QB6Tc+B8UXpAWgMl6xIFf0ACXZR4rEWCQBY/MiEkhIVAthS7T9NSiUASjWso6smNQDVUvY2qgpFAJMeB9piSlEDPUUi3IyeYQObYSnA9VZxACQ9F706aoEAwwYb/9m+jQJkhC/ZxuqZApXi1GyOKqkBnYmJ55vCuQDl4FEX1ALJA7KBmlbbotEAYyRIHKzq4QMk0SxLV/7tAEkIhbPUhwECeFyqZ84fCQJeLAfkENsVA38K6s2YvyEApyVMsLXbLQBVfeQwDC89A+f1J+Xl20UD9Q1KXpIzTQFt+Vea+xdVAMQK/g6Ye2EAiGz22bZPaQJDUs/t7H91AUtUr57e930CO+HZcWzThQJfuuOF2jeJA+eZm8XDn40AyaFn3qD/lQK6l2v2sk+ZAOSZYHkfh50BkNIifhibpQKoC1fzEYepAZTg8U6eR60Bwa2rVHLXsQKsV//Ray+1AQdbf6dfT7kCSLfEuRM7vQCZrOLpBXfBASmlCt1LM8ECKAr1mbzTxQE+9mkvBlfFAj1QJA37w8UCutR+B5ETyQLw2Yp86k/JARk4w/crb8kAWlC0v4x7zQGa7lTjSXPNAEM8oSOeV80Cy48+xcMrzQKSw5R27+vNA6sYp5xAn9ECoC+GguU/0QAspAb/5dPRAkIn2WhKX9EAShRIQQbb0QDwBVuu/0vRAmvrPasXs9EDo7lqJhAT1QLVA79MsGvVAdtM6huot9UC2jIis5j/1QCEpXElHUPVAk05tfS9f9UBS5/Cwv2z1QNW5Ur0VefVA9mayFk2E9UCy+Jv0fo71QIXWlXnCl/VAeYw42Syg9UACw5p80af1QFoy7iTCrvVA5BU5DA+19UCzjSEEx7r1QL4czZL3v/VAeyLZDa3E9UBdOXqz8sj1QO4a0sHSzPVAIruPjFbQ9UArhu6QhtP1QIVRK4hq1vVAO7+FeAnZ9UBXNOXEadv1QD0iODuR3fVA2NmjIYXf9UC4cppCSuH1QIde6/fk4vVA3FHiNFnk9UB6GoePquX1QAXsD0nc5vVAZ5iWVfHn9UBVDyBj7Oj1QC2BBODP6fVAA2/FAJ7q9UBeB17FWOv1QOUwGf4B7PVAzNX3T5vs9UDzHrE4Ju31QCKQVRKk7fVA4DedFhbu9UAve+hhfe71QARh+vXa7vVAtrFyvC/v9UB+qA2JfO/1QDaIrhvC7/VACtw5IgHw9UAmzkM6OvD1QDGUlvJt8PVAlpmUzJzw9UDiuXk9x/D1QJKXfq/t8PVAMsXgghDx9UBiUdIOMPH1QL7xUqJM8fVA2uT0hGbx9UAXa4/3ffH1QLaM4DST8fVAmrofcqbx9UDfsoLft/H1QEPztajH8fVAIdtJ9dXx9UDMlhXp4vH1QFq+kKTu8fVALo0kRfnx9UBkeHXlAvL1QMrbpZ0L8vVAGGOSgxPy9UAQxAirGvL1QOla+SUh8vVAdxKkBCfy9UBIG8FVLPL1QIHFpSYx8vVAIPBlgzXy9UADS/J2OfL1QMW7Mws98vVAZzokSUDy9UBST+U4Q/L1QFtx1OFF8vVAHoGdSkjy9UAhgEt5SvL1QEa2V3NM8vVAIG63PU7y9UD+YOjcT/L1QCD6+1RR8vVA",
          "dtype": "f8"
         }
        },
        {
         "mode": "lines",
         "name": "Deaths",
         "type": "scatter",
         "x": {
          "bdata": "AAABAAIAAwAEAAUABgAHAAgACQAKAAsADAANAA4ADwAQABEAEgATABQAFQAWABcAGAAZABoAGwAcAB0AHgAfACAAIQAiACMAJAAlACYAJwAoACkAKgArACwALQAuAC8AMAAxADIAMwA0ADUANgA3ADgAOQA6ADsAPAA9AD4APwBAAEEAQgBDAEQARQBGAEcASABJAEoASwBMAE0ATgBPAFAAUQBSAFMAVABVAFYAVwBYAFkAWgBbAFwAXQBeAF8AYABhAGIAYwBkAGUAZgBnAGgAaQBqAGsAbABtAG4AbwBwAHEAcgBzAHQAdQB2AHcAeAB5AHoAewB8AH0AfgB/AIAAgQCCAIMAhACFAIYAhwCIAIkAigCLAIwAjQCOAI8AkACRAJIAkwCUAJUAlgCXAJgAmQCaAJsAnACdAJ4AnwCgAKEAogCjAKQApQCmAKcAqACpAKoAqwCsAK0ArgCvALAAsQCyALMA",
          "dtype": "i2"
         },
         "y": {
          "bdata": "AAAAAAAAAABnTK8NlkmtPwP5KiJvgsA/E0q5NYevyz+XEpphiInUP4sVSnWsftw/2eanFTn14j88xrXE2oXoPyJNdi4IF+8/DvMA5+Jq8z+kwLFQtfv3P9QynT9/Xf0/5MqpR7jaAUAMFCqdsJcFQKABQgF+/wlAiUqta48wD0ATQh9qXqcSQJxAEoUdQhZAyNa7A12BGkCPKtNeWoIfQIvqLaW+syJAVb5p9J4sJkCfvUD6mEMqQD6E4VGjFC9AE0zslEtgMkDtnYVcArc1QKVtSroUpTlAGPRKPwZFPkBKcax+8dpBQLJ1XID9DUVAfM9Q79vQSEAEyFMnRzxNQBHMwU2DNlFAxUMvpkJCVECoPYlTu9RXQPG5+xVEBFxAuAWbK0d1YEDZpwb5glJjQIStCI2XqmZAqLGhS36QakAaNXEyixlvQEeBopHBLnJAHfpdSU87dUDsgRthuMB4QI3zUztVznxAu4C4qiu6gEDeoKgFvGGDQKCQog5EZoZAt2loE+/PiUBlv6mOUqaNQOGiZ/oD+JBATQIv9h5Zk0CJOnYjJPiVQHiy+gmc1ZhAKGN2KMPwm0BlBuq+bUefQH7Lqh7/aqFAXJtlabhLo0C2FWQrvkKlQHUQwy9jTKdAQkRWH5NkqUCwjfGT+IarQFoXW5wkr61Aj3FxtbTYr0DBuXpfuv+wQCUe4pe9D7JALbh5S58as0CEwzkZ0h60QFQ1d/0DG7VAt8bJdR8OtkC/IlVESve2QCLemF3i1bdA/0Tmh3mpuEALvo0l0HG5QAZFWpDPLrpADkJqWITgukCpnWGkGIe7QK/7Xd/OIrxASYeo0fyzvEAVif80Bzu9QJFX0MtduL1AOX2A+3csvkC6uRXl0Ze+QGzFIvTp+r5A4eTa2T5Wv0B9n0zpTaq/QAKBb8mR979AuDjuuEAfwECEPOezxz/AQGy6zZiUXcBAC274e9t4wEBAN3WmzZHAQJWaEYmZqMBAR5XZu2q9wEBT8nsHatDAQJAAWXa94cBAxEJia4jxwEAqCjq96//AQH+6SdQFDcFAddi9yvIYwUDahY2NzCPBQN3H2/2qLcFAXlIoEqQ2wUBbLeP2yz7BQGp4ES41RsFAxtbGrfBMwUABnEj9DVPBQK6OvlCbWMFATt5go6VdwUDB1xrQOGLBQP0WpKhfZsFAlBsUCyRqwUAVYfv1jm3BQPF7DpuocMFAG/xycHhzwUC90b5ABXbBQDlBvDlVeMFA/ZgE+m16wUDgKYSdVHzBQP+0+cgNfsFArhSDtJ1/wUDIW0g1CIHBQDrlVcZQgsFASg61kHqDwUCVe9JyiITBQATwPwd9hcFAVODeqlqGwUBFDICCI4fBQIyaA4DZh8FA0FgEZ36IwUDmBRjRE4nBQLnArTGbicFAchGT2RWKwUD2Syf6hIrBQE9zRKjpisFAtCzk3kSLwUD0yIaBl4vBQDfnYV7ii8FAX8FbMCaMwUD/udegY4zBQPhsWEmbjMFAbxb7tM2MwUAf2M9h+4zBQCkQEsIkjcFAEq5DPUqNwUBOLi4xbI3BQHWsy/KKjcFAWzcaz6aNwUBOdNsLwI3BQP5aQujWjcFAFLeQneuNwUBF76Vf/o3BQJJwgF0PjsFArvuywR6OwUB+9c6yLI7BQJvCxFM5jsFAshU7xESOwUA8Et4gT47BQK7+poNYjsFAvj0dBGGOwUAcLZG3aI7BQKB8UbFvjsFAeILbAnaOwUA/Awe8e47BQFPiLeuAjsFAxA5QnYWOwUDSFTTeiY7BQACehLiNjsFAfybrNZGOwUABPChflI7BQARjKTyXjsFAhfsc1JmOwUBzP4QtnI7BQOCNQ06ejsFAFjSxO6COwUDlzKL6oY7BQJxeeY+jjsFAGFgs/qSOwUDJgFNKpo7BQEr7L3enjsFA",
          "dtype": "f8"
         }
        }
       ],
       "layout": {
        "height": 400,
        "template": {
         "data": {
          "bar": [
           {
            "error_x": {
             "color": "#2a3f5f"
            },
            "error_y": {
             "color": "#2a3f5f"
            },
            "marker": {
             "line": {
              "color": "#E5ECF6",
              "width": 0.5
             },
             "pattern": {
              "fillmode": "overlay",
              "size": 10,
              "solidity": 0.2
             }
            },
            "type": "bar"
           }
          ],
          "barpolar": [
           {
            "marker": {
             "line": {
              "color": "#E5ECF6",
              "width": 0.5
             },
             "pattern": {
              "fillmode": "overlay",
              "size": 10,
              "solidity": 0.2
             }
            },
            "type": "barpolar"
           }
          ],
          "carpet": [
           {
            "aaxis": {
             "endlinecolor": "#2a3f5f",
             "gridcolor": "white",
             "linecolor": "white",
             "minorgridcolor": "white",
             "startlinecolor": "#2a3f5f"
            },
            "baxis": {
             "endlinecolor": "#2a3f5f",
             "gridcolor": "white",
             "linecolor": "white",
             "minorgridcolor": "white",
             "startlinecolor": "#2a3f5f"
            },
            "type": "carpet"
           }
          ],
          "choropleth": [
           {
            "colorbar": {
             "outlinewidth": 0,
             "ticks": ""
            },
            "type": "choropleth"
           }
          ],
          "contour": [
           {
            "colorbar": {
             "outlinewidth": 0,
             "ticks": ""
            },
            "colorscale": [
             [
              0,
              "#0d0887"
             ],
             [
              0.1111111111111111,
              "#46039f"
             ],
             [
              0.2222222222222222,
              "#7201a8"
             ],
             [
              0.3333333333333333,
              "#9c179e"
             ],
             [
              0.4444444444444444,
              "#bd3786"
             ],
             [
              0.5555555555555556,
              "#d8576b"
             ],
             [
              0.6666666666666666,
              "#ed7953"
             ],
             [
              0.7777777777777778,
              "#fb9f3a"
             ],
             [
              0.8888888888888888,
              "#fdca26"
             ],
             [
              1,
              "#f0f921"
             ]
            ],
            "type": "contour"
           }
          ],
          "contourcarpet": [
           {
            "colorbar": {
             "outlinewidth": 0,
             "ticks": ""
            },
            "type": "contourcarpet"
           }
          ],
          "heatmap": [
           {
            "colorbar": {
             "outlinewidth": 0,
             "ticks": ""
            },
            "colorscale": [
             [
              0,
              "#0d0887"
             ],
             [
              0.1111111111111111,
              "#46039f"
             ],
             [
              0.2222222222222222,
              "#7201a8"
             ],
             [
              0.3333333333333333,
              "#9c179e"
             ],
             [
              0.4444444444444444,
              "#bd3786"
             ],
             [
              0.5555555555555556,
              "#d8576b"
             ],
             [
              0.6666666666666666,
              "#ed7953"
             ],
             [
              0.7777777777777778,
              "#fb9f3a"
             ],
             [
              0.8888888888888888,
              "#fdca26"
             ],
             [
              1,
              "#f0f921"
             ]
            ],
            "type": "heatmap"
           }
          ],
          "histogram": [
           {
            "marker": {
             "pattern": {
              "fillmode": "overlay",
              "size": 10,
              "solidity": 0.2
             }
            },
            "type": "histogram"
           }
          ],
          "histogram2d": [
           {
            "colorbar": {
             "outlinewidth": 0,
             "ticks": ""
            },
            "colorscale": [
             [
              0,
              "#0d0887"
             ],
             [
              0.1111111111111111,
              "#46039f"
             ],
             [
              0.2222222222222222,
              "#7201a8"
             ],
             [
              0.3333333333333333,
              "#9c179e"
             ],
             [
              0.4444444444444444,
              "#bd3786"
             ],
             [
              0.5555555555555556,
              "#d8576b"
             ],
             [
              0.6666666666666666,
              "#ed7953"
             ],
             [
              0.7777777777777778,
              "#fb9f3a"
             ],
             [
              0.8888888888888888,
              "#fdca26"
             ],
             [
              1,
              "#f0f921"
             ]
            ],
            "type": "histogram2d"
           }
          ],
          "histogram2dcontour": [
           {
            "colorbar": {
             "outlinewidth": 0,
             "ticks": ""
            },
            "colorscale": [
             [
              0,
              "#0d0887"
             ],
             [
              0.1111111111111111,
              "#46039f"
             ],
             [
              0.2222222222222222,
              "#7201a8"
             ],
             [
              0.3333333333333333,
              "#9c179e"
             ],
             [
              0.4444444444444444,
              "#bd3786"
             ],
             [
              0.5555555555555556,
              "#d8576b"
             ],
             [
              0.6666666666666666,
              "#ed7953"
             ],
             [
              0.7777777777777778,
              "#fb9f3a"
             ],
             [
              0.8888888888888888,
              "#fdca26"
             ],
             [
              1,
              "#f0f921"
             ]
            ],
            "type": "histogram2dcontour"
           }
          ],
          "mesh3d": [
           {
            "colorbar": {
             "outlinewidth": 0,
             "ticks": ""
            },
            "type": "mesh3d"
           }
          ],
          "parcoords": [
           {
            "line": {
             "colorbar": {
              "outlinewidth": 0,
              "ticks": ""
             }
            },
            "type": "parcoords"
           }
          ],
          "pie": [
           {
            "automargin": true,
            "type": "pie"
           }
          ],
          "scatter": [
           {
            "fillpattern": {
             "fillmode": "overlay",
             "size": 10,
             "solidity": 0.2
            },
            "type": "scatter"
           }
          ],
          "scatter3d": [
           {
            "line": {
             "colorbar": {
              "outlinewidth": 0,
              "ticks": ""
             }
            },
            "marker": {
             "colorbar": {
              "outlinewidth": 0,
              "ticks": ""
             }
            },
            "type": "scatter3d"
           }
          ],
          "scattercarpet": [
           {
            "marker": {
             "colorbar": {
              "outlinewidth": 0,
              "ticks": ""
             }
            },
            "type": "scattercarpet"
           }
          ],
          "scattergeo": [
           {
            "marker": {
             "colorbar": {
              "outlinewidth": 0,
              "ticks": ""
             }
            },
            "type": "scattergeo"
           }
          ],
          "scattergl": [
           {
            "marker": {
             "colorbar": {
              "outlinewidth": 0,
              "ticks": ""
             }
            },
            "type": "scattergl"
           }
          ],
          "scattermap": [
           {
            "marker": {
             "colorbar": {
              "outlinewidth": 0,
              "ticks": ""
             }
            },
            "type": "scattermap"
           }
          ],
          "scattermapbox": [
           {
            "marker": {
             "colorbar": {
              "outlinewidth": 0,
              "ticks": ""
             }
            },
            "type": "scattermapbox"
           }
          ],
          "scatterpolar": [
           {
            "marker": {
             "colorbar": {
              "outlinewidth": 0,
              "ticks": ""
             }
            },
            "type": "scatterpolar"
           }
          ],
          "scatterpolargl": [
           {
            "marker": {
             "colorbar": {
              "outlinewidth": 0,
              "ticks": ""
             }
            },
            "type": "scatterpolargl"
           }
          ],
          "scatterternary": [
           {
            "marker": {
             "colorbar": {
              "outlinewidth": 0,
              "ticks": ""
             }
            },
            "type": "scatterternary"
           }
          ],
          "surface": [
           {
            "colorbar": {
             "outlinewidth": 0,
             "ticks": ""
            },
            "colorscale": [
             [
              0,
              "#0d0887"
             ],
             [
              0.1111111111111111,
              "#46039f"
             ],
             [
              0.2222222222222222,
              "#7201a8"
             ],
             [
              0.3333333333333333,
              "#9c179e"
             ],
             [
              0.4444444444444444,
              "#bd3786"
             ],
             [
              0.5555555555555556,
              "#d8576b"
             ],
             [
              0.6666666666666666,
              "#ed7953"
             ],
             [
              0.7777777777777778,
              "#fb9f3a"
             ],
             [
              0.8888888888888888,
              "#fdca26"
             ],
             [
              1,
              "#f0f921"
             ]
            ],
            "type": "surface"
           }
          ],
          "table": [
           {
            "cells": {
             "fill": {
              "color": "#EBF0F8"
             },
             "line": {
              "color": "white"
             }
            },
            "header": {
             "fill": {
              "color": "#C8D4E3"
             },
             "line": {
              "color": "white"
             }
            },
            "type": "table"
           }
          ]
         },
         "layout": {
          "annotationdefaults": {
           "arrowcolor": "#2a3f5f",
           "arrowhead": 0,
           "arrowwidth": 1
          },
          "autotypenumbers": "strict",
          "coloraxis": {
           "colorbar": {
            "outlinewidth": 0,
            "ticks": ""
           }
          },
          "colorscale": {
           "diverging": [
            [
             0,
             "#8e0152"
            ],
            [
             0.1,
             "#c51b7d"
            ],
            [
             0.2,
             "#de77ae"
            ],
            [
             0.3,
             "#f1b6da"
            ],
            [
             0.4,
             "#fde0ef"
            ],
            [
             0.5,
             "#f7f7f7"
            ],
            [
             0.6,
             "#e6f5d0"
            ],
            [
             0.7,
             "#b8e186"
            ],
            [
             0.8,
             "#7fbc41"
            ],
            [
             0.9,
             "#4d9221"
            ],
            [
             1,
             "#276419"
            ]
           ],
           "sequential": [
            [
             0,
             "#0d0887"
            ],
            [
             0.1111111111111111,
             "#46039f"
            ],
            [
             0.2222222222222222,
             "#7201a8"
            ],
            [
             0.3333333333333333,
             "#9c179e"
            ],
            [
             0.4444444444444444,
             "#bd3786"
            ],
            [
             0.5555555555555556,
             "#d8576b"
            ],
            [
             0.6666666666666666,
             "#ed7953"
            ],
            [
             0.7777777777777778,
             "#fb9f3a"
            ],
            [
             0.8888888888888888,
             "#fdca26"
            ],
            [
             1,
             "#f0f921"
            ]
           ],
           "sequentialminus": [
            [
             0,
             "#0d0887"
            ],
            [
             0.1111111111111111,
             "#46039f"
            ],
            [
             0.2222222222222222,
             "#7201a8"
            ],
            [
             0.3333333333333333,
             "#9c179e"
            ],
            [
             0.4444444444444444,
             "#bd3786"
            ],
            [
             0.5555555555555556,
             "#d8576b"
            ],
            [
             0.6666666666666666,
             "#ed7953"
            ],
            [
             0.7777777777777778,
             "#fb9f3a"
            ],
            [
             0.8888888888888888,
             "#fdca26"
            ],
            [
             1,
             "#f0f921"
            ]
           ]
          },
          "colorway": [
           "#636efa",
           "#EF553B",
           "#00cc96",
           "#ab63fa",
           "#FFA15A",
           "#19d3f3",
           "#FF6692",
           "#B6E880",
           "#FF97FF",
           "#FECB52"
          ],
          "font": {
           "color": "#2a3f5f"
          },
          "geo": {
           "bgcolor": "white",
           "lakecolor": "white",
           "landcolor": "#E5ECF6",
           "showlakes": true,
           "showland": true,
           "subunitcolor": "white"
          },
          "hoverlabel": {
           "align": "left"
          },
          "hovermode": "closest",
          "mapbox": {
           "style": "light"
          },
          "paper_bgcolor": "white",
          "plot_bgcolor": "#E5ECF6",
          "polar": {
           "angularaxis": {
            "gridcolor": "white",
            "linecolor": "white",
            "ticks": ""
           },
           "bgcolor": "#E5ECF6",
           "radialaxis": {
            "gridcolor": "white",
            "linecolor": "white",
            "ticks": ""
           }
          },
          "scene": {
           "xaxis": {
            "backgroundcolor": "#E5ECF6",
            "gridcolor": "white",
            "gridwidth": 2,
            "linecolor": "white",
            "showbackground": true,
            "ticks": "",
            "zerolinecolor": "white"
           },
           "yaxis": {
            "backgroundcolor": "#E5ECF6",
            "gridcolor": "white",
            "gridwidth": 2,
            "linecolor": "white",
            "showbackground": true,
            "ticks": "",
            "zerolinecolor": "white"
           },
           "zaxis": {
            "backgroundcolor": "#E5ECF6",
            "gridcolor": "white",
            "gridwidth": 2,
            "linecolor": "white",
            "showbackground": true,
            "ticks": "",
            "zerolinecolor": "white"
           }
          },
          "shapedefaults": {
           "line": {
            "color": "#2a3f5f"
           }
          },
          "ternary": {
           "aaxis": {
            "gridcolor": "white",
            "linecolor": "white",
            "ticks": ""
           },
           "baxis": {
            "gridcolor": "white",
            "linecolor": "white",
            "ticks": ""
           },
           "bgcolor": "#E5ECF6",
           "caxis": {
            "gridcolor": "white",
            "linecolor": "white",
            "ticks": ""
           }
          },
          "title": {
           "x": 0.05
          },
          "xaxis": {
           "automargin": true,
           "gridcolor": "white",
           "linecolor": "white",
           "ticks": "",
           "title": {
            "standoff": 15
           },
           "zerolinecolor": "white",
           "zerolinewidth": 2
          },
          "yaxis": {
           "automargin": true,
           "gridcolor": "white",
           "linecolor": "white",
           "ticks": "",
           "title": {
            "standoff": 15
           },
           "zerolinecolor": "white",
           "zerolinewidth": 2
          }
         }
        },
        "title": {
         "text": "SEIRD Model Simulation"
        },
        "width": 800,
        "xaxis": {
         "tickmode": "array",
         "tickvals": {
          "bdata": "AAAeADwAWgB4AJYAtAA=",
          "dtype": "i2"
         },
         "title": {
          "text": "Day"
         }
        },
        "yaxis": {
         "title": {
          "text": "Population"
         }
        }
       }
      },
      "text/html": [
       "<div>            <script src=\"https://cdnjs.cloudflare.com/ajax/libs/mathjax/2.7.5/MathJax.js?config=TeX-AMS-MML_SVG\"></script><script type=\"text/javascript\">if (window.MathJax && window.MathJax.Hub && window.MathJax.Hub.Config) {window.MathJax.Hub.Config({SVG: {font: \"STIX-Web\"}});}</script>                    <div id=\"8dc08536-e57e-49f2-97c1-e176ca196763\" class=\"plotly-graph-div\" style=\"height:400px; width:800px;\"></div>            <script type=\"text/javascript\">                window.PLOTLYENV=window.PLOTLYENV || {};                                if (document.getElementById(\"8dc08536-e57e-49f2-97c1-e176ca196763\")) {                    Plotly.newPlot(                        \"8dc08536-e57e-49f2-97c1-e176ca196763\",                        [{\"mode\":\"lines\",\"name\":\"Susceptible\",\"x\":{\"dtype\":\"i2\",\"bdata\":\"AAABAAIAAwAEAAUABgAHAAgACQAKAAsADAANAA4ADwAQABEAEgATABQAFQAWABcAGAAZABoAGwAcAB0AHgAfACAAIQAiACMAJAAlACYAJwAoACkAKgArACwALQAuAC8AMAAxADIAMwA0ADUANgA3ADgAOQA6ADsAPAA9AD4APwBAAEEAQgBDAEQARQBGAEcASABJAEoASwBMAE0ATgBPAFAAUQBSAFMAVABVAFYAVwBYAFkAWgBbAFwAXQBeAF8AYABhAGIAYwBkAGUAZgBnAGgAaQBqAGsAbABtAG4AbwBwAHEAcgBzAHQAdQB2AHcAeAB5AHoAewB8AH0AfgB\\u002fAIAAgQCCAIMAhACFAIYAhwCIAIkAigCLAIwAjQCOAI8AkACRAJIAkwCUAJUAlgCXAJgAmQCaAJsAnACdAJ4AnwCgAKEAogCjAKQApQCmAKcAqACpAKoAqwCsAK0ArgCvALAAsQCyALMA\"},\"y\":{\"dtype\":\"f8\",\"bdata\":\"AAAAABBp+EAUR\\u002fI+4mj4QBjGmdWoaPhAEwf9\\u002f2Jo+ED0Q\\u002fhXD2j4QKJjZ+irZ\\u002fhAoi6XMTZn+EDT8Twjq2b4QF2UXA4HZvhATqZYkEVl+ECXuaB3YWT4QBmm6aFUY\\u002fhAY2N30xdi+EB0LrGGomD4QGKZ9LLqXvhAi0BcieRc+EBi4fMlglr4QBKCjTOzV\\u002fhARoougGRU+EDhpc1\\u002ff1D4QHqizLrpS\\u002fhAbp9vJYRG+EDHVDpdKkD4QBDgRMmxOPhAdHtKmugv+EB81Z2nlCX4QLACrCZyGfhACpWhOzIL+EBRemBjefr3QJm5Z7nd5vdASUziH+XP90A\\u002fFzVVA7X3QDMidAmYlfdA7A2aD+1w90Ck1bjSNEb3QHKl20aJFPdAF1sWoOva9kB8J7wvRZj2QAAwn95pS\\u002fZABJro0Bzz9UB7VZvPF471QKEXZxYWG\\u002fVAVqcoEOOY9EAgGGpWbQb0QFzOPOPdYvNA6WYiyLKt8kAH4p7p2+bxQBwJFUPXDvFA2xf4OMkm8EAk3OyDGWHuQDxbGeptXexAMdC7nxRJ6kC7D7dNryvoQFGGYv+aDeZASpUNf3P340C2xrspifHhQGPfD7laA+BAlmfZX0lm3EAh0oa7KAvZQF0UH5pL+9VA9ZpInVg500DKUE\\u002f2\\u002fMTQQGcVwT3pNs1AfTDJHlNwyUBagSd\\u002fpirGQHQvra4LWcNAvoopt07uwEBjk\\u002f2uHbu9QGORq0NrNbpAwwBjj3s1t0CJpqYBqKe0QCvhJhG5erJA1gec0syfsEAxt0+\\u002fTxSuQPrPVQX3XatAhH9UUlEKqUBFSqbdCAqnQC4czh9CUKVAjZSMOznSo0BgBzfT64aiQMrTiwTPZqFAaKlqoZBroEBjGxDhxB+fQArMWFCcnp1AE9W3vCFMnECHOMmI+SGbQMZ+bkrAGppAULzQg+ExmUBkguiTdWOYQCwE4JglrJdAiI2wNBQJl0BSnDtUyneWQOwjokAn9pVA1FNAY1OClUDJ5UpCtRqVQBPQK0\\u002fovZRA04vMNbVqlEBpq5toCyCUQKW\\u002fprL73JNAeM+worOgk0BchWiqeWqTQI31itOpOZNAL\\u002fUe8rINk0A2RE0\\u002fFOaSQNmtBExbwpJA89RzPSKikkBx19BHDoWSQFsu1F3OapJAjuT9DBpTkkACwdR\\u002fsD2SQAMvwqBXKpJA6vSzWNsYkkDxba3lDAmSQGOI7kXC+pFAr4PltNXtkUCTX4g3JeKRQNKiFTaS15FA4r97IQHOkUBPOvIiWcWRQGOWfdSDvZFAU\\u002flHAW22kUCMH91sArCRQGz6eKAzqpFAiIO0vfGkkUBodvJVL6CRQEoIA0bgm5FA+QKGlfmXkUBH\\u002f6FZcZSRQEXes5o+kZFA8PWkPFmOkUASnZ\\u002fpuYuRQOSi4v5ZiZFAsbh6ezOHkUBO6a\\u002fwQIWRQN5I+nN9g5FATSdWkuSBkUApPdREcoCRQIQmRuYif5FAtbrqKfN9kUCvCwET4HyRQO0KK+3me5FAJ5uLRQV7kUDkmo3kOHqRQKB4Q8h\\u002feZFAyXdQH9h4kUBVVE5EQHiRQM4po7m2d5FAlv28JTp3kUA05qhPyXaRQP40\\u002fRtjdpFAHpYOigZ2kUD1A2mxsnWRQMsRhr9mdZFAlLS69SF1kUBBQFen43SRQMrJ9DerdJFAfbvrGXh0kUDFhO\\u002fMSXSRQMEIzNwfdJFAM35B4PlzkUDa6vt313ORQJOZo024c5FAci4EE5xzkUAyO0iBgnORQExCR1hrc5FAa6vkXVZzkUD1y31dQ3ORQIvVZScyc5FAMQpukCJzkUBTWnlxFHORQOJKGqcHc5FAofA5EfxykUAtbMeS8XKRQGoEbxHocpFA1wJYdd9ykUCR5Oio13KRQGEqkZjQcpFA5jWYMspykUBS2\\u002fBmxHKRQH8ZESe\\u002fcpFA\"},\"type\":\"scatter\"},{\"mode\":\"lines\",\"name\":\"Exposed\",\"x\":{\"dtype\":\"i2\",\"bdata\":\"AAABAAIAAwAEAAUABgAHAAgACQAKAAsADAANAA4ADwAQABEAEgATABQAFQAWABcAGAAZABoAGwAcAB0AHgAfACAAIQAiACMAJAAlACYAJwAoACkAKgArACwALQAuAC8AMAAxADIAMwA0ADUANgA3ADgAOQA6ADsAPAA9AD4APwBAAEEAQgBDAEQARQBGAEcASABJAEoASwBMAE0ATgBPAFAAUQBSAFMAVABVAFYAVwBYAFkAWgBbAFwAXQBeAF8AYABhAGIAYwBkAGUAZgBnAGgAaQBqAGsAbABtAG4AbwBwAHEAcgBzAHQAdQB2AHcAeAB5AHoAewB8AH0AfgB\\u002fAIAAgQCCAIMAhACFAIYAhwCIAIkAigCLAIwAjQCOAI8AkACRAJIAkwCUAJUAlgCXAJgAmQCaAJsAnACdAJ4AnwCgAKEAogCjAKQApQCmAKcAqACpAKoAqwCsAK0ArgCvALAAsQCyALMA\"},\"y\":{\"dtype\":\"f8\",\"bdata\":\"AAAAAAAAJEC+yxIteJQlQKcginHrMShAlru2BNu+K0AewKhxXBwwQB2cl+zN1jJArtNJHGAcNkB1sYCLbAA6QABXXWjMmz5AJCwFRoUGQkDwUkB5dDxFQBke0uKVBUlANfG5ItJ7TUCoqzXV3l5RQMp2qNWvd1RAt\\u002f9L\\u002fY4dWEAtkRMsaWlcQJwl3KVDvGBApVC7fqW2Y0BCgNeuBDhnQKSj6twDWGtAjQshiCcZcEBxwKT6oPNyQPczLGtSTnZAxiUx60A\\u002fekD7Xb2fCeB+QDE9r6MyJ4JAhrCKkltWhUD3fcCHUhGJQEE\\u002fV0Xabo1A6jHclXlEkUA7wX6WkT6UQE9PREtYtpdAYGPGrWK+m0CVP2Y0mzWgQJ2UyFKW6aJArCdqdRYHpkDnvsq6mJqpQB5fyfLBsK1A4si21OcqsUCwMIAzacqzQIVfHJBUu7ZARTEgzVwAukCJcURAtJm9QBmroL4XwsBAfOTdty7cwkBBrdBZ1hTFQNGHTQngYsdAvihpHQ66yUBsh6bqLQvMQNjz4fCIRM5Al\\u002f\\u002f4AFwp0EAovkSR6hDRQDarF5t6z9FAoBzG1d9c0kDYf1ku9rLSQMmYW1o2ztJAZEMOzQeu0kBLJfbxwlTSQLwQIB1lx9FASKHvIwUN0UBwIRpBIS7QQAoZDtHDZ85ACLdi+tROzECDGMuZkyLKQIKzKx0n8sdA6l+XQ0jKxUBragXUE7XDQB31CooYusFAyqxzQRy9v0AvYmYlSUu8QA8oO127IblAJChJlc1AtkBUrVXn16azQKs6VqHBULFA9Pke7vZ0rkDEpAgZxL6qQDvjczsVdadATKIGDfmNpEA4N8F0tf+hQK+RX+IAgp9AfrQGBkmSm0BXK9vXKiCYQPlkKJDyHJVAzCUvg1J7kkAKvLHnWC+QQFDDRO+7XIxAARnLz9rdiECSd9rkWtGFQLKmRwuKKINArKH+c4TWgEBOykAiB6B9QHAsK+9fFnpAUkM8eu3+dkDHTsYXxUp0QE6s4\\u002fnw7HFA1F4EYmK0b0ClBrRAhxFsQNnbP9Fk4GhA6SUCfFASZkCO8349lJpjQAJKQrcrbmFAFmEitxMHX0Az7WRuzKRbQNGVVeMhp1hA751sY5kBVkC7GZtOW6lTQHIBgyT6lFFAQYc3vIJ4T0CasVsOFjBMQFy38mc2RElA6KB4AwGqRkCiNpvo8VdEQLAxnCi1RUJA780Ak\\u002f5rQED4cCfyzYg9QDb0W3ackjpAMSFo4oLrN0A8tdM3yYo1QD1mf76+aDNAsuSCsJh+MUD1nYXEqowvQNM34YlGdSxAlxdqdZatKUDW1saJOy0nQHxnqU\\u002fF7CRAHBxhWpXlIkDIgu5zxhEhQElAneMt2B5Aj9sFiKvfG0CuP3PBozEZQJgsc3iXxhZAtdNnDdGXFEApi63qTZ8SQPsrQsWq1xBAlLKCZyR4DkCXM0mfWpALQJZepTws8AhAe+WIEpeQBkA2mVJoTWsEQFZv6AqjegJAmWcUeny5AEAxFNvgf0b+P75bpBuQZ\\u002fs\\u002fD3Vx56\\u002fO+D\\u002fD+QFQIXX2P0YQxDHPVPQ\\u002ff2m0Qzxo8j8Zh\\u002fnmc6rwPzYR9hf5Le4\\u002fsKJr\\u002fpZT6z9fmS3tc77oP\\u002fY1HHr2Z+Y\\u002fZBTNuidK5D+tzmdio1\\u002fiPziaf3eJo+A\\u002fJVwh8eIi3j\\u002fMwJuMvUrbP8gvumlst9g\\u002ffFVFSGli1j9mAGsJzUXUPy94JWNAXNI\\u002fk\\u002fSlEu6g0D+ipYTN7B7OP9JRkvzHR8s\\u002f9mlXQUO1yD84C4sf4mDGP\\u002ftPanzFRMQ\\u002fBU94nZxbwj9sEpicl6DAP1RdEVm2Hr4\\u002fvOjvAutHuz+Tc6CZqLW4Px7R4mF3YbY\\u002f0VI9GXxFtD+Z+EAlaVyyP9gQJihxobA\\u002fMGC6tHUgrj\\u002f43ycmrEmrP5zFHqljt6g\\u002f\"},\"type\":\"scatter\"},{\"mode\":\"lines\",\"name\":\"Infected\",\"x\":{\"dtype\":\"i2\",\"bdata\":\"AAABAAIAAwAEAAUABgAHAAgACQAKAAsADAANAA4ADwAQABEAEgATABQAFQAWABcAGAAZABoAGwAcAB0AHgAfACAAIQAiACMAJAAlACYAJwAoACkAKgArACwALQAuAC8AMAAxADIAMwA0ADUANgA3ADgAOQA6ADsAPAA9AD4APwBAAEEAQgBDAEQARQBGAEcASABJAEoASwBMAE0ATgBPAFAAUQBSAFMAVABVAFYAVwBYAFkAWgBbAFwAXQBeAF8AYABhAGIAYwBkAGUAZgBnAGgAaQBqAGsAbABtAG4AbwBwAHEAcgBzAHQAdQB2AHcAeAB5AHoAewB8AH0AfgB\\u002fAIAAgQCCAIMAhACFAIYAhwCIAIkAigCLAIwAjQCOAI8AkACRAJIAkwCUAJUAlgCXAJgAmQCaAJsAnACdAJ4AnwCgAKEAogCjAKQApQCmAKcAqACpAKoAqwCsAK0ArgCvALAAsQCyALMA\"},\"y\":{\"dtype\":\"f8\",\"bdata\":\"AAAAAAAAFEBmkuguAMMZQDU5p3fsuR9AOvcqHfoeI0DK8qIyAc0mQHUgC\\u002fLLCStAmNa0onX4L0Aps8NxXN8yQHw9ZP5iQzZAPzLA6nNAOkCpuWtakPI+QMgXHxI3PUJAhELmcDN\\u002fRUAcHRRgw1VJQDqqBg9i201AU0quRJqXUUD\\u002fbHEb7rpUQOzhwjI2bVhAGyPPVcTHXEAFJkSlLPRgQADYQHjz+GNATFp2yLiGZ0DCbgBqirVrQIM3zivMUHBAyPLw0\\u002fA1c0CTStEifZ12QGyqi8z1nXpAtA3S7ZhRf0Bmy+vAdWuCQPRijL6qqIVAMOmZruV0iUArRW1NweeNQAfoPRIrjpFAfaN1mcuYlECevY8fVCWYQNZqaNSSR5xAq+HPmdSKoEBMvntCB1SjQJipWgi6jKZAlgOAZT9DqkCtGufyo4auQJVtUvUks7FAc73krat4tEBFI1eW95q3QL8MKLYXILtApRdgA3oMv0AJVFQVGbHBQPVr+hMXEMRA109+vbOgxkCHVJFDE17JQF4fau65QMxA\\u002fhye7Go+z0Aw2uv6HSXRQILtRh90qtJAsFRNALMm1EBqDu4K3JDVQLfQWWn139ZAeZ8sQpEL2EDJatnWTgzZQFikFOdG3NlA+SWx81d32kAGayr9S9vaQL8omyHXB9tAKxDueXP+2kBRNPVsIsLaQLO7ZTgdV9pAQdAQc37C2UBcDN\\u002fk7AnZQITOB\\u002fFNM9hAOXLfh4NE10BXnlJ6N0PWQOkaA2O0NNVAVXZNMMsd1EA20\\u002fqmwwLTQJZ5B+pV59FAPlvNBKvO0EBGYTs6xXbPQA6Yqlw4X81AaEq87ARay0CZfoQKsGnJQHI3l0EIkMdAlM6hzz7OxUDfGeuc\\u002fyTEQEGcMGWHlMJAADbPybccwUDQaJZdUnq\\u002fQDE9scd06rxAWI6ZYDyIukCJXYvIzVG4QDMFsTYgRbZA65P6vA1gtEBETbqqYKCyQAV8YWneA7FAoqayVaAQr0BPHpRyE1esQPWK4WHd1qlAs\\u002fsVyuyLp0DSK61RXXKlQLiV7Fx7hqNAEUNGTsbEoUC2zaCS8SmgQLwPAHLJZZ1A35aSlHW5mkBG2LQbgkmYQPCWxL\\u002fqEJZAa4\\u002f7bwgLlEAv2U\\u002fyjDOSQB6YYj5+hpBA0uynZ2MAjkA6cvyMjjqLQKisLGdJtYhA6JqNoOFqhkBOtkj5HVaEQJD7o4c1coJATZ73Xce6gEC9sls8pVd+QJkTav1dg3tAdC6YhQvyeEBKUwBLlp12QPTdyGpwgHRAXYmbO4qVckBiLumyR9hwQKPQYyftiG5AZgweuYqsa0BEHPzUdRRpQO8wGYtdumZAWAZBGYSYZEAMdo\\u002frsaliQFk5W7Ep6WBAI\\u002fZH5TqlXkC3tc4lScRbQG3Yql5lKFlA2Teejh7LVkDj9jQ+nKZUQE9LjZuQtVJAb8hr0CvzUEDVteHwILZOQHnigT6S0ktAc24xYH00SUCX01uEX9VGQCbXQV1Rr0RAVvf0vPi8QkD83fyAe\\u002flAQGD\\u002fBGDnwD5AbFV2XMnbO0D57HDfYjw5QCoWSCMn3DZAWlLEiya1NEDrAFn7\\u002f8EyQPcDIoTT\\u002fTBAjldYqWzILkCs\\u002foyHT+IrQCgL\\u002fsEOQilAzZi44xfhJkBEWQmMdrkkQI8dspzFxSJAxCXgyiEBIUB1VnDhOs4eQNpj0wVr5xtAh5\\u002fHHI9GGUC0VgBMEeUWQKObYFP6vBRAFYzRpeLIEkADuT7o5AMRQDtlIGYj0w5AY9Nz+MjrC0ByX3YTc0oJQGjn9a+J6AZAWaSkrxPABEB\\u002fkEjqp8sCQCbklqRfBgFAHRpHjpTX\\u002fj8HEoaBxO\\u002f7P0Y2yuoFTvk\\u002fbDPRNr\\u002fr9j9mgWzw9cL0PyWJy8Y\\u002fzvI\\u002fAglw+LQI8T\\u002fpU7cUyNvuP3+1skmN8+s\\u002f\"},\"type\":\"scatter\"},{\"mode\":\"lines\",\"name\":\"Recovered\",\"x\":{\"dtype\":\"i2\",\"bdata\":\"AAABAAIAAwAEAAUABgAHAAgACQAKAAsADAANAA4ADwAQABEAEgATABQAFQAWABcAGAAZABoAGwAcAB0AHgAfACAAIQAiACMAJAAlACYAJwAoACkAKgArACwALQAuAC8AMAAxADIAMwA0ADUANgA3ADgAOQA6ADsAPAA9AD4APwBAAEEAQgBDAEQARQBGAEcASABJAEoASwBMAE0ATgBPAFAAUQBSAFMAVABVAFYAVwBYAFkAWgBbAFwAXQBeAF8AYABhAGIAYwBkAGUAZgBnAGgAaQBqAGsAbABtAG4AbwBwAHEAcgBzAHQAdQB2AHcAeAB5AHoAewB8AH0AfgB\\u002fAIAAgQCCAIMAhACFAIYAhwCIAIkAigCLAIwAjQCOAI8AkACRAJIAkwCUAJUAlgCXAJgAmQCaAJsAnACdAJ4AnwCgAKEAogCjAKQApQCmAKcAqACpAKoAqwCsAK0ArgCvALAAsQCyALMA\"},\"y\":{\"dtype\":\"f8\",\"bdata\":\"AAAAAAAAAADAj43I\\u002fU3iP0W3teoKo\\u002fQ\\u002fTs6TgbRNAUA+lwB66qsJQHhNTskrzxFAkOARW4eyF0DLN+N1UaceQDbwCR1lbiNA0S\\u002fBoJtFKEDPMN6kovotQMQ\\u002fwodvWjJAnD2UWWZRNkANmXTEnP06QAJBycCuP0BAlE5Mo1l+Q0CWEqcENlFHQMLQVuak0ktAPGZVItqQUECY+kN7eLFTQCxleU6uYFdA6S2Esca3W0CDdmicP2pgQKbyLBPmbGNAGF8nel74ZkBoBafzwiRrQIeEbvQsB3BAj9iO5yPrckCbjVferVF2QB6Tc+B8UXpAWgMl6xIFf0ACXZR4rEWCQBY\\u002fMiEkhIVAthS7T9NSiUASjWso6smNQDVUvY2qgpFAJMeB9piSlEDPUUi3IyeYQObYSnA9VZxACQ9F706aoEAwwYb\\u002f9m+jQJkhC\\u002fZxuqZApXi1GyOKqkBnYmJ55vCuQDl4FEX1ALJA7KBmlbbotEAYyRIHKzq4QMk0SxLV\\u002f7tAEkIhbPUhwECeFyqZ84fCQJeLAfkENsVA38K6s2YvyEApyVMsLXbLQBVfeQwDC89A+f1J+Xl20UD9Q1KXpIzTQFt+Vea+xdVAMQK\\u002fg6Ye2EAiGz22bZPaQJDUs\\u002ft7H91AUtUr57e930CO+HZcWzThQJfuuOF2jeJA+eZm8XDn40AyaFn3qD\\u002flQK6l2v2sk+ZAOSZYHkfh50BkNIifhibpQKoC1fzEYepAZTg8U6eR60Bwa2rVHLXsQKsV\\u002f\\u002fRay+1AQdbf6dfT7kCSLfEuRM7vQCZrOLpBXfBASmlCt1LM8ECKAr1mbzTxQE+9mkvBlfFAj1QJA37w8UCutR+B5ETyQLw2Yp86k\\u002fJARk4w\\u002fcrb8kAWlC0v4x7zQGa7lTjSXPNAEM8oSOeV80Cy48+xcMrzQKSw5R27+vNA6sYp5xAn9ECoC+GguU\\u002f0QAspAb\\u002f5dPRAkIn2WhKX9EAShRIQQbb0QDwBVuu\\u002f0vRAmvrPasXs9EDo7lqJhAT1QLVA79MsGvVAdtM6huot9UC2jIis5j\\u002f1QCEpXElHUPVAk05tfS9f9UBS5\\u002fCwv2z1QNW5Ur0VefVA9mayFk2E9UCy+Jv0fo71QIXWlXnCl\\u002fVAeYw42Syg9UACw5p80af1QFoy7iTCrvVA5BU5DA+19UCzjSEEx7r1QL4czZL3v\\u002fVAeyLZDa3E9UBdOXqz8sj1QO4a0sHSzPVAIruPjFbQ9UArhu6QhtP1QIVRK4hq1vVAO7+FeAnZ9UBXNOXEadv1QD0iODuR3fVA2NmjIYXf9UC4cppCSuH1QIde6\\u002ffk4vVA3FHiNFnk9UB6GoePquX1QAXsD0nc5vVAZ5iWVfHn9UBVDyBj7Oj1QC2BBODP6fVAA2\\u002fFAJ7q9UBeB17FWOv1QOUwGf4B7PVAzNX3T5vs9UDzHrE4Ju31QCKQVRKk7fVA4DedFhbu9UAve+hhfe71QARh+vXa7vVAtrFyvC\\u002fv9UB+qA2JfO\\u002f1QDaIrhvC7\\u002fVACtw5IgHw9UAmzkM6OvD1QDGUlvJt8PVAlpmUzJzw9UDiuXk9x\\u002fD1QJKXfq\\u002ft8PVAMsXgghDx9UBiUdIOMPH1QL7xUqJM8fVA2uT0hGbx9UAXa4\\u002f3ffH1QLaM4DST8fVAmrofcqbx9UDfsoLft\\u002fH1QEPztajH8fVAIdtJ9dXx9UDMlhXp4vH1QFq+kKTu8fVALo0kRfnx9UBkeHXlAvL1QMrbpZ0L8vVAGGOSgxPy9UAQxAirGvL1QOla+SUh8vVAdxKkBCfy9UBIG8FVLPL1QIHFpSYx8vVAIPBlgzXy9UADS\\u002fJ2OfL1QMW7Mws98vVAZzokSUDy9UBST+U4Q\\u002fL1QFtx1OFF8vVAHoGdSkjy9UAhgEt5SvL1QEa2V3NM8vVAIG63PU7y9UD+YOjcT\\u002fL1QCD6+1RR8vVA\"},\"type\":\"scatter\"},{\"mode\":\"lines\",\"name\":\"Deaths\",\"x\":{\"dtype\":\"i2\",\"bdata\":\"AAABAAIAAwAEAAUABgAHAAgACQAKAAsADAANAA4ADwAQABEAEgATABQAFQAWABcAGAAZABoAGwAcAB0AHgAfACAAIQAiACMAJAAlACYAJwAoACkAKgArACwALQAuAC8AMAAxADIAMwA0ADUANgA3ADgAOQA6ADsAPAA9AD4APwBAAEEAQgBDAEQARQBGAEcASABJAEoASwBMAE0ATgBPAFAAUQBSAFMAVABVAFYAVwBYAFkAWgBbAFwAXQBeAF8AYABhAGIAYwBkAGUAZgBnAGgAaQBqAGsAbABtAG4AbwBwAHEAcgBzAHQAdQB2AHcAeAB5AHoAewB8AH0AfgB\\u002fAIAAgQCCAIMAhACFAIYAhwCIAIkAigCLAIwAjQCOAI8AkACRAJIAkwCUAJUAlgCXAJgAmQCaAJsAnACdAJ4AnwCgAKEAogCjAKQApQCmAKcAqACpAKoAqwCsAK0ArgCvALAAsQCyALMA\"},\"y\":{\"dtype\":\"f8\",\"bdata\":\"AAAAAAAAAABnTK8NlkmtPwP5KiJvgsA\\u002fE0q5NYevyz+XEpphiInUP4sVSnWsftw\\u002f2eanFTn14j88xrXE2oXoPyJNdi4IF+8\\u002fDvMA5+Jq8z+kwLFQtfv3P9QynT9\\u002fXf0\\u002f5MqpR7jaAUAMFCqdsJcFQKABQgF+\\u002fwlAiUqta48wD0ATQh9qXqcSQJxAEoUdQhZAyNa7A12BGkCPKtNeWoIfQIvqLaW+syJAVb5p9J4sJkCfvUD6mEMqQD6E4VGjFC9AE0zslEtgMkDtnYVcArc1QKVtSroUpTlAGPRKPwZFPkBKcax+8dpBQLJ1XID9DUVAfM9Q79vQSEAEyFMnRzxNQBHMwU2DNlFAxUMvpkJCVECoPYlTu9RXQPG5+xVEBFxAuAWbK0d1YEDZpwb5glJjQIStCI2XqmZAqLGhS36QakAaNXEyixlvQEeBopHBLnJAHfpdSU87dUDsgRthuMB4QI3zUztVznxAu4C4qiu6gEDeoKgFvGGDQKCQog5EZoZAt2loE+\\u002fPiUBlv6mOUqaNQOGiZ\\u002foD+JBATQIv9h5Zk0CJOnYjJPiVQHiy+gmc1ZhAKGN2KMPwm0BlBuq+bUefQH7Lqh7\\u002faqFAXJtlabhLo0C2FWQrvkKlQHUQwy9jTKdAQkRWH5NkqUCwjfGT+IarQFoXW5wkr61Aj3FxtbTYr0DBuXpfuv+wQCUe4pe9D7JALbh5S58as0CEwzkZ0h60QFQ1d\\u002f0DG7VAt8bJdR8OtkC\\u002fIlVESve2QCLemF3i1bdA\\u002f0Tmh3mpuEALvo0l0HG5QAZFWpDPLrpADkJqWITgukCpnWGkGIe7QK\\u002f7Xd\\u002fOIrxASYeo0fyzvEAVif80Bzu9QJFX0MtduL1AOX2A+3csvkC6uRXl0Ze+QGzFIvTp+r5A4eTa2T5Wv0B9n0zpTaq\\u002fQAKBb8mR979AuDjuuEAfwECEPOezxz\\u002fAQGy6zZiUXcBAC274e9t4wEBAN3WmzZHAQJWaEYmZqMBAR5XZu2q9wEBT8nsHatDAQJAAWXa94cBAxEJia4jxwEAqCjq96\\u002f\\u002fAQH+6SdQFDcFAddi9yvIYwUDahY2NzCPBQN3H2\\u002f2qLcFAXlIoEqQ2wUBbLeP2yz7BQGp4ES41RsFAxtbGrfBMwUABnEj9DVPBQK6OvlCbWMFATt5go6VdwUDB1xrQOGLBQP0WpKhfZsFAlBsUCyRqwUAVYfv1jm3BQPF7DpuocMFAG\\u002fxycHhzwUC90b5ABXbBQDlBvDlVeMFA\\u002fZgE+m16wUDgKYSdVHzBQP+0+cgNfsFArhSDtJ1\\u002fwUDIW0g1CIHBQDrlVcZQgsFASg61kHqDwUCVe9JyiITBQATwPwd9hcFAVODeqlqGwUBFDICCI4fBQIyaA4DZh8FA0FgEZ36IwUDmBRjRE4nBQLnArTGbicFAchGT2RWKwUD2Syf6hIrBQE9zRKjpisFAtCzk3kSLwUD0yIaBl4vBQDfnYV7ii8FAX8FbMCaMwUD\\u002fudegY4zBQPhsWEmbjMFAbxb7tM2MwUAf2M9h+4zBQCkQEsIkjcFAEq5DPUqNwUBOLi4xbI3BQHWsy\\u002fKKjcFAWzcaz6aNwUBOdNsLwI3BQP5aQujWjcFAFLeQneuNwUBF76Vf\\u002fo3BQJJwgF0PjsFArvuywR6OwUB+9c6yLI7BQJvCxFM5jsFAshU7xESOwUA8Et4gT47BQK7+poNYjsFAvj0dBGGOwUAcLZG3aI7BQKB8UbFvjsFAeILbAnaOwUA\\u002fAwe8e47BQFPiLeuAjsFAxA5QnYWOwUDSFTTeiY7BQACehLiNjsFAfybrNZGOwUABPChflI7BQARjKTyXjsFAhfsc1JmOwUBzP4QtnI7BQOCNQ06ejsFAFjSxO6COwUDlzKL6oY7BQJxeeY+jjsFAGFgs\\u002fqSOwUDJgFNKpo7BQEr7L3enjsFA\"},\"type\":\"scatter\"}],                        {\"template\":{\"data\":{\"histogram2dcontour\":[{\"type\":\"histogram2dcontour\",\"colorbar\":{\"outlinewidth\":0,\"ticks\":\"\"},\"colorscale\":[[0.0,\"#0d0887\"],[0.1111111111111111,\"#46039f\"],[0.2222222222222222,\"#7201a8\"],[0.3333333333333333,\"#9c179e\"],[0.4444444444444444,\"#bd3786\"],[0.5555555555555556,\"#d8576b\"],[0.6666666666666666,\"#ed7953\"],[0.7777777777777778,\"#fb9f3a\"],[0.8888888888888888,\"#fdca26\"],[1.0,\"#f0f921\"]]}],\"choropleth\":[{\"type\":\"choropleth\",\"colorbar\":{\"outlinewidth\":0,\"ticks\":\"\"}}],\"histogram2d\":[{\"type\":\"histogram2d\",\"colorbar\":{\"outlinewidth\":0,\"ticks\":\"\"},\"colorscale\":[[0.0,\"#0d0887\"],[0.1111111111111111,\"#46039f\"],[0.2222222222222222,\"#7201a8\"],[0.3333333333333333,\"#9c179e\"],[0.4444444444444444,\"#bd3786\"],[0.5555555555555556,\"#d8576b\"],[0.6666666666666666,\"#ed7953\"],[0.7777777777777778,\"#fb9f3a\"],[0.8888888888888888,\"#fdca26\"],[1.0,\"#f0f921\"]]}],\"heatmap\":[{\"type\":\"heatmap\",\"colorbar\":{\"outlinewidth\":0,\"ticks\":\"\"},\"colorscale\":[[0.0,\"#0d0887\"],[0.1111111111111111,\"#46039f\"],[0.2222222222222222,\"#7201a8\"],[0.3333333333333333,\"#9c179e\"],[0.4444444444444444,\"#bd3786\"],[0.5555555555555556,\"#d8576b\"],[0.6666666666666666,\"#ed7953\"],[0.7777777777777778,\"#fb9f3a\"],[0.8888888888888888,\"#fdca26\"],[1.0,\"#f0f921\"]]}],\"contourcarpet\":[{\"type\":\"contourcarpet\",\"colorbar\":{\"outlinewidth\":0,\"ticks\":\"\"}}],\"contour\":[{\"type\":\"contour\",\"colorbar\":{\"outlinewidth\":0,\"ticks\":\"\"},\"colorscale\":[[0.0,\"#0d0887\"],[0.1111111111111111,\"#46039f\"],[0.2222222222222222,\"#7201a8\"],[0.3333333333333333,\"#9c179e\"],[0.4444444444444444,\"#bd3786\"],[0.5555555555555556,\"#d8576b\"],[0.6666666666666666,\"#ed7953\"],[0.7777777777777778,\"#fb9f3a\"],[0.8888888888888888,\"#fdca26\"],[1.0,\"#f0f921\"]]}],\"surface\":[{\"type\":\"surface\",\"colorbar\":{\"outlinewidth\":0,\"ticks\":\"\"},\"colorscale\":[[0.0,\"#0d0887\"],[0.1111111111111111,\"#46039f\"],[0.2222222222222222,\"#7201a8\"],[0.3333333333333333,\"#9c179e\"],[0.4444444444444444,\"#bd3786\"],[0.5555555555555556,\"#d8576b\"],[0.6666666666666666,\"#ed7953\"],[0.7777777777777778,\"#fb9f3a\"],[0.8888888888888888,\"#fdca26\"],[1.0,\"#f0f921\"]]}],\"mesh3d\":[{\"type\":\"mesh3d\",\"colorbar\":{\"outlinewidth\":0,\"ticks\":\"\"}}],\"scatter\":[{\"fillpattern\":{\"fillmode\":\"overlay\",\"size\":10,\"solidity\":0.2},\"type\":\"scatter\"}],\"parcoords\":[{\"type\":\"parcoords\",\"line\":{\"colorbar\":{\"outlinewidth\":0,\"ticks\":\"\"}}}],\"scatterpolargl\":[{\"type\":\"scatterpolargl\",\"marker\":{\"colorbar\":{\"outlinewidth\":0,\"ticks\":\"\"}}}],\"bar\":[{\"error_x\":{\"color\":\"#2a3f5f\"},\"error_y\":{\"color\":\"#2a3f5f\"},\"marker\":{\"line\":{\"color\":\"#E5ECF6\",\"width\":0.5},\"pattern\":{\"fillmode\":\"overlay\",\"size\":10,\"solidity\":0.2}},\"type\":\"bar\"}],\"scattergeo\":[{\"type\":\"scattergeo\",\"marker\":{\"colorbar\":{\"outlinewidth\":0,\"ticks\":\"\"}}}],\"scatterpolar\":[{\"type\":\"scatterpolar\",\"marker\":{\"colorbar\":{\"outlinewidth\":0,\"ticks\":\"\"}}}],\"histogram\":[{\"marker\":{\"pattern\":{\"fillmode\":\"overlay\",\"size\":10,\"solidity\":0.2}},\"type\":\"histogram\"}],\"scattergl\":[{\"type\":\"scattergl\",\"marker\":{\"colorbar\":{\"outlinewidth\":0,\"ticks\":\"\"}}}],\"scatter3d\":[{\"type\":\"scatter3d\",\"line\":{\"colorbar\":{\"outlinewidth\":0,\"ticks\":\"\"}},\"marker\":{\"colorbar\":{\"outlinewidth\":0,\"ticks\":\"\"}}}],\"scattermap\":[{\"type\":\"scattermap\",\"marker\":{\"colorbar\":{\"outlinewidth\":0,\"ticks\":\"\"}}}],\"scattermapbox\":[{\"type\":\"scattermapbox\",\"marker\":{\"colorbar\":{\"outlinewidth\":0,\"ticks\":\"\"}}}],\"scatterternary\":[{\"type\":\"scatterternary\",\"marker\":{\"colorbar\":{\"outlinewidth\":0,\"ticks\":\"\"}}}],\"scattercarpet\":[{\"type\":\"scattercarpet\",\"marker\":{\"colorbar\":{\"outlinewidth\":0,\"ticks\":\"\"}}}],\"carpet\":[{\"aaxis\":{\"endlinecolor\":\"#2a3f5f\",\"gridcolor\":\"white\",\"linecolor\":\"white\",\"minorgridcolor\":\"white\",\"startlinecolor\":\"#2a3f5f\"},\"baxis\":{\"endlinecolor\":\"#2a3f5f\",\"gridcolor\":\"white\",\"linecolor\":\"white\",\"minorgridcolor\":\"white\",\"startlinecolor\":\"#2a3f5f\"},\"type\":\"carpet\"}],\"table\":[{\"cells\":{\"fill\":{\"color\":\"#EBF0F8\"},\"line\":{\"color\":\"white\"}},\"header\":{\"fill\":{\"color\":\"#C8D4E3\"},\"line\":{\"color\":\"white\"}},\"type\":\"table\"}],\"barpolar\":[{\"marker\":{\"line\":{\"color\":\"#E5ECF6\",\"width\":0.5},\"pattern\":{\"fillmode\":\"overlay\",\"size\":10,\"solidity\":0.2}},\"type\":\"barpolar\"}],\"pie\":[{\"automargin\":true,\"type\":\"pie\"}]},\"layout\":{\"autotypenumbers\":\"strict\",\"colorway\":[\"#636efa\",\"#EF553B\",\"#00cc96\",\"#ab63fa\",\"#FFA15A\",\"#19d3f3\",\"#FF6692\",\"#B6E880\",\"#FF97FF\",\"#FECB52\"],\"font\":{\"color\":\"#2a3f5f\"},\"hovermode\":\"closest\",\"hoverlabel\":{\"align\":\"left\"},\"paper_bgcolor\":\"white\",\"plot_bgcolor\":\"#E5ECF6\",\"polar\":{\"bgcolor\":\"#E5ECF6\",\"angularaxis\":{\"gridcolor\":\"white\",\"linecolor\":\"white\",\"ticks\":\"\"},\"radialaxis\":{\"gridcolor\":\"white\",\"linecolor\":\"white\",\"ticks\":\"\"}},\"ternary\":{\"bgcolor\":\"#E5ECF6\",\"aaxis\":{\"gridcolor\":\"white\",\"linecolor\":\"white\",\"ticks\":\"\"},\"baxis\":{\"gridcolor\":\"white\",\"linecolor\":\"white\",\"ticks\":\"\"},\"caxis\":{\"gridcolor\":\"white\",\"linecolor\":\"white\",\"ticks\":\"\"}},\"coloraxis\":{\"colorbar\":{\"outlinewidth\":0,\"ticks\":\"\"}},\"colorscale\":{\"sequential\":[[0.0,\"#0d0887\"],[0.1111111111111111,\"#46039f\"],[0.2222222222222222,\"#7201a8\"],[0.3333333333333333,\"#9c179e\"],[0.4444444444444444,\"#bd3786\"],[0.5555555555555556,\"#d8576b\"],[0.6666666666666666,\"#ed7953\"],[0.7777777777777778,\"#fb9f3a\"],[0.8888888888888888,\"#fdca26\"],[1.0,\"#f0f921\"]],\"sequentialminus\":[[0.0,\"#0d0887\"],[0.1111111111111111,\"#46039f\"],[0.2222222222222222,\"#7201a8\"],[0.3333333333333333,\"#9c179e\"],[0.4444444444444444,\"#bd3786\"],[0.5555555555555556,\"#d8576b\"],[0.6666666666666666,\"#ed7953\"],[0.7777777777777778,\"#fb9f3a\"],[0.8888888888888888,\"#fdca26\"],[1.0,\"#f0f921\"]],\"diverging\":[[0,\"#8e0152\"],[0.1,\"#c51b7d\"],[0.2,\"#de77ae\"],[0.3,\"#f1b6da\"],[0.4,\"#fde0ef\"],[0.5,\"#f7f7f7\"],[0.6,\"#e6f5d0\"],[0.7,\"#b8e186\"],[0.8,\"#7fbc41\"],[0.9,\"#4d9221\"],[1,\"#276419\"]]},\"xaxis\":{\"gridcolor\":\"white\",\"linecolor\":\"white\",\"ticks\":\"\",\"title\":{\"standoff\":15},\"zerolinecolor\":\"white\",\"automargin\":true,\"zerolinewidth\":2},\"yaxis\":{\"gridcolor\":\"white\",\"linecolor\":\"white\",\"ticks\":\"\",\"title\":{\"standoff\":15},\"zerolinecolor\":\"white\",\"automargin\":true,\"zerolinewidth\":2},\"scene\":{\"xaxis\":{\"backgroundcolor\":\"#E5ECF6\",\"gridcolor\":\"white\",\"linecolor\":\"white\",\"showbackground\":true,\"ticks\":\"\",\"zerolinecolor\":\"white\",\"gridwidth\":2},\"yaxis\":{\"backgroundcolor\":\"#E5ECF6\",\"gridcolor\":\"white\",\"linecolor\":\"white\",\"showbackground\":true,\"ticks\":\"\",\"zerolinecolor\":\"white\",\"gridwidth\":2},\"zaxis\":{\"backgroundcolor\":\"#E5ECF6\",\"gridcolor\":\"white\",\"linecolor\":\"white\",\"showbackground\":true,\"ticks\":\"\",\"zerolinecolor\":\"white\",\"gridwidth\":2}},\"shapedefaults\":{\"line\":{\"color\":\"#2a3f5f\"}},\"annotationdefaults\":{\"arrowcolor\":\"#2a3f5f\",\"arrowhead\":0,\"arrowwidth\":1},\"geo\":{\"bgcolor\":\"white\",\"landcolor\":\"#E5ECF6\",\"subunitcolor\":\"white\",\"showland\":true,\"showlakes\":true,\"lakecolor\":\"white\"},\"title\":{\"x\":0.05},\"mapbox\":{\"style\":\"light\"}}},\"title\":{\"text\":\"SEIRD Model Simulation\"},\"xaxis\":{\"title\":{\"text\":\"Day\"},\"tickmode\":\"array\",\"tickvals\":{\"dtype\":\"i2\",\"bdata\":\"AAAeADwAWgB4AJYAtAA=\"}},\"yaxis\":{\"title\":{\"text\":\"Population\"}},\"width\":800,\"height\":400},                        {\"responsive\": true}                    ).then(function(){\n",
       "                            \n",
       "var gd = document.getElementById('8dc08536-e57e-49f2-97c1-e176ca196763');\n",
       "var x = new MutationObserver(function (mutations, observer) {{\n",
       "        var display = window.getComputedStyle(gd).display;\n",
       "        if (!display || display === 'none') {{\n",
       "            console.log([gd, 'removed!']);\n",
       "            Plotly.purge(gd);\n",
       "            observer.disconnect();\n",
       "        }}\n",
       "}});\n",
       "\n",
       "// Listen for the removal of the full notebook cells\n",
       "var notebookContainer = gd.closest('#notebook-container');\n",
       "if (notebookContainer) {{\n",
       "    x.observe(notebookContainer, {childList: true});\n",
       "}}\n",
       "\n",
       "// Listen for the clearing of the current output cell\n",
       "var outputEl = gd.closest('.output');\n",
       "if (outputEl) {{\n",
       "    x.observe(outputEl, {childList: true});\n",
       "}}\n",
       "\n",
       "                        })                };            </script>        </div>"
      ]
     },
     "metadata": {},
     "output_type": "display_data"
    },
    {
     "name": "stdout",
     "output_type": "stream",
     "text": [
      "\n",
      "📊 Key Metrics:\n",
      "• R0: 4.545454545454546\n",
      "• Peak Infected: 27679\n",
      "• Peak Day: 62\n",
      "• Attack Rate (%): 98.88\n",
      "• Mortality Rate (%): 8.9893\n"
     ]
    },
    {
     "data": {
      "application/vnd.plotly.v1+json": {
       "config": {
        "plotlyServerURL": "https://plot.ly"
       },
       "data": [
        {
         "labels": [
          "Susceptible",
          "Exposed",
          "Infected",
          "Recovered",
          "Deaths"
         ],
         "marker": {
          "colors": [
           "lightblue",
           "orange",
           "red",
           "green",
           "black"
          ]
         },
         "type": "pie",
         "values": [
          1116.6866724654972,
          0.048274149317317966,
          0.8734804572501814,
          89893.08324811654,
          8989.308324811649
         ]
        }
       ],
       "layout": {
        "height": 400,
        "template": {
         "data": {
          "bar": [
           {
            "error_x": {
             "color": "#2a3f5f"
            },
            "error_y": {
             "color": "#2a3f5f"
            },
            "marker": {
             "line": {
              "color": "#E5ECF6",
              "width": 0.5
             },
             "pattern": {
              "fillmode": "overlay",
              "size": 10,
              "solidity": 0.2
             }
            },
            "type": "bar"
           }
          ],
          "barpolar": [
           {
            "marker": {
             "line": {
              "color": "#E5ECF6",
              "width": 0.5
             },
             "pattern": {
              "fillmode": "overlay",
              "size": 10,
              "solidity": 0.2
             }
            },
            "type": "barpolar"
           }
          ],
          "carpet": [
           {
            "aaxis": {
             "endlinecolor": "#2a3f5f",
             "gridcolor": "white",
             "linecolor": "white",
             "minorgridcolor": "white",
             "startlinecolor": "#2a3f5f"
            },
            "baxis": {
             "endlinecolor": "#2a3f5f",
             "gridcolor": "white",
             "linecolor": "white",
             "minorgridcolor": "white",
             "startlinecolor": "#2a3f5f"
            },
            "type": "carpet"
           }
          ],
          "choropleth": [
           {
            "colorbar": {
             "outlinewidth": 0,
             "ticks": ""
            },
            "type": "choropleth"
           }
          ],
          "contour": [
           {
            "colorbar": {
             "outlinewidth": 0,
             "ticks": ""
            },
            "colorscale": [
             [
              0,
              "#0d0887"
             ],
             [
              0.1111111111111111,
              "#46039f"
             ],
             [
              0.2222222222222222,
              "#7201a8"
             ],
             [
              0.3333333333333333,
              "#9c179e"
             ],
             [
              0.4444444444444444,
              "#bd3786"
             ],
             [
              0.5555555555555556,
              "#d8576b"
             ],
             [
              0.6666666666666666,
              "#ed7953"
             ],
             [
              0.7777777777777778,
              "#fb9f3a"
             ],
             [
              0.8888888888888888,
              "#fdca26"
             ],
             [
              1,
              "#f0f921"
             ]
            ],
            "type": "contour"
           }
          ],
          "contourcarpet": [
           {
            "colorbar": {
             "outlinewidth": 0,
             "ticks": ""
            },
            "type": "contourcarpet"
           }
          ],
          "heatmap": [
           {
            "colorbar": {
             "outlinewidth": 0,
             "ticks": ""
            },
            "colorscale": [
             [
              0,
              "#0d0887"
             ],
             [
              0.1111111111111111,
              "#46039f"
             ],
             [
              0.2222222222222222,
              "#7201a8"
             ],
             [
              0.3333333333333333,
              "#9c179e"
             ],
             [
              0.4444444444444444,
              "#bd3786"
             ],
             [
              0.5555555555555556,
              "#d8576b"
             ],
             [
              0.6666666666666666,
              "#ed7953"
             ],
             [
              0.7777777777777778,
              "#fb9f3a"
             ],
             [
              0.8888888888888888,
              "#fdca26"
             ],
             [
              1,
              "#f0f921"
             ]
            ],
            "type": "heatmap"
           }
          ],
          "histogram": [
           {
            "marker": {
             "pattern": {
              "fillmode": "overlay",
              "size": 10,
              "solidity": 0.2
             }
            },
            "type": "histogram"
           }
          ],
          "histogram2d": [
           {
            "colorbar": {
             "outlinewidth": 0,
             "ticks": ""
            },
            "colorscale": [
             [
              0,
              "#0d0887"
             ],
             [
              0.1111111111111111,
              "#46039f"
             ],
             [
              0.2222222222222222,
              "#7201a8"
             ],
             [
              0.3333333333333333,
              "#9c179e"
             ],
             [
              0.4444444444444444,
              "#bd3786"
             ],
             [
              0.5555555555555556,
              "#d8576b"
             ],
             [
              0.6666666666666666,
              "#ed7953"
             ],
             [
              0.7777777777777778,
              "#fb9f3a"
             ],
             [
              0.8888888888888888,
              "#fdca26"
             ],
             [
              1,
              "#f0f921"
             ]
            ],
            "type": "histogram2d"
           }
          ],
          "histogram2dcontour": [
           {
            "colorbar": {
             "outlinewidth": 0,
             "ticks": ""
            },
            "colorscale": [
             [
              0,
              "#0d0887"
             ],
             [
              0.1111111111111111,
              "#46039f"
             ],
             [
              0.2222222222222222,
              "#7201a8"
             ],
             [
              0.3333333333333333,
              "#9c179e"
             ],
             [
              0.4444444444444444,
              "#bd3786"
             ],
             [
              0.5555555555555556,
              "#d8576b"
             ],
             [
              0.6666666666666666,
              "#ed7953"
             ],
             [
              0.7777777777777778,
              "#fb9f3a"
             ],
             [
              0.8888888888888888,
              "#fdca26"
             ],
             [
              1,
              "#f0f921"
             ]
            ],
            "type": "histogram2dcontour"
           }
          ],
          "mesh3d": [
           {
            "colorbar": {
             "outlinewidth": 0,
             "ticks": ""
            },
            "type": "mesh3d"
           }
          ],
          "parcoords": [
           {
            "line": {
             "colorbar": {
              "outlinewidth": 0,
              "ticks": ""
             }
            },
            "type": "parcoords"
           }
          ],
          "pie": [
           {
            "automargin": true,
            "type": "pie"
           }
          ],
          "scatter": [
           {
            "fillpattern": {
             "fillmode": "overlay",
             "size": 10,
             "solidity": 0.2
            },
            "type": "scatter"
           }
          ],
          "scatter3d": [
           {
            "line": {
             "colorbar": {
              "outlinewidth": 0,
              "ticks": ""
             }
            },
            "marker": {
             "colorbar": {
              "outlinewidth": 0,
              "ticks": ""
             }
            },
            "type": "scatter3d"
           }
          ],
          "scattercarpet": [
           {
            "marker": {
             "colorbar": {
              "outlinewidth": 0,
              "ticks": ""
             }
            },
            "type": "scattercarpet"
           }
          ],
          "scattergeo": [
           {
            "marker": {
             "colorbar": {
              "outlinewidth": 0,
              "ticks": ""
             }
            },
            "type": "scattergeo"
           }
          ],
          "scattergl": [
           {
            "marker": {
             "colorbar": {
              "outlinewidth": 0,
              "ticks": ""
             }
            },
            "type": "scattergl"
           }
          ],
          "scattermap": [
           {
            "marker": {
             "colorbar": {
              "outlinewidth": 0,
              "ticks": ""
             }
            },
            "type": "scattermap"
           }
          ],
          "scattermapbox": [
           {
            "marker": {
             "colorbar": {
              "outlinewidth": 0,
              "ticks": ""
             }
            },
            "type": "scattermapbox"
           }
          ],
          "scatterpolar": [
           {
            "marker": {
             "colorbar": {
              "outlinewidth": 0,
              "ticks": ""
             }
            },
            "type": "scatterpolar"
           }
          ],
          "scatterpolargl": [
           {
            "marker": {
             "colorbar": {
              "outlinewidth": 0,
              "ticks": ""
             }
            },
            "type": "scatterpolargl"
           }
          ],
          "scatterternary": [
           {
            "marker": {
             "colorbar": {
              "outlinewidth": 0,
              "ticks": ""
             }
            },
            "type": "scatterternary"
           }
          ],
          "surface": [
           {
            "colorbar": {
             "outlinewidth": 0,
             "ticks": ""
            },
            "colorscale": [
             [
              0,
              "#0d0887"
             ],
             [
              0.1111111111111111,
              "#46039f"
             ],
             [
              0.2222222222222222,
              "#7201a8"
             ],
             [
              0.3333333333333333,
              "#9c179e"
             ],
             [
              0.4444444444444444,
              "#bd3786"
             ],
             [
              0.5555555555555556,
              "#d8576b"
             ],
             [
              0.6666666666666666,
              "#ed7953"
             ],
             [
              0.7777777777777778,
              "#fb9f3a"
             ],
             [
              0.8888888888888888,
              "#fdca26"
             ],
             [
              1,
              "#f0f921"
             ]
            ],
            "type": "surface"
           }
          ],
          "table": [
           {
            "cells": {
             "fill": {
              "color": "#EBF0F8"
             },
             "line": {
              "color": "white"
             }
            },
            "header": {
             "fill": {
              "color": "#C8D4E3"
             },
             "line": {
              "color": "white"
             }
            },
            "type": "table"
           }
          ]
         },
         "layout": {
          "annotationdefaults": {
           "arrowcolor": "#2a3f5f",
           "arrowhead": 0,
           "arrowwidth": 1
          },
          "autotypenumbers": "strict",
          "coloraxis": {
           "colorbar": {
            "outlinewidth": 0,
            "ticks": ""
           }
          },
          "colorscale": {
           "diverging": [
            [
             0,
             "#8e0152"
            ],
            [
             0.1,
             "#c51b7d"
            ],
            [
             0.2,
             "#de77ae"
            ],
            [
             0.3,
             "#f1b6da"
            ],
            [
             0.4,
             "#fde0ef"
            ],
            [
             0.5,
             "#f7f7f7"
            ],
            [
             0.6,
             "#e6f5d0"
            ],
            [
             0.7,
             "#b8e186"
            ],
            [
             0.8,
             "#7fbc41"
            ],
            [
             0.9,
             "#4d9221"
            ],
            [
             1,
             "#276419"
            ]
           ],
           "sequential": [
            [
             0,
             "#0d0887"
            ],
            [
             0.1111111111111111,
             "#46039f"
            ],
            [
             0.2222222222222222,
             "#7201a8"
            ],
            [
             0.3333333333333333,
             "#9c179e"
            ],
            [
             0.4444444444444444,
             "#bd3786"
            ],
            [
             0.5555555555555556,
             "#d8576b"
            ],
            [
             0.6666666666666666,
             "#ed7953"
            ],
            [
             0.7777777777777778,
             "#fb9f3a"
            ],
            [
             0.8888888888888888,
             "#fdca26"
            ],
            [
             1,
             "#f0f921"
            ]
           ],
           "sequentialminus": [
            [
             0,
             "#0d0887"
            ],
            [
             0.1111111111111111,
             "#46039f"
            ],
            [
             0.2222222222222222,
             "#7201a8"
            ],
            [
             0.3333333333333333,
             "#9c179e"
            ],
            [
             0.4444444444444444,
             "#bd3786"
            ],
            [
             0.5555555555555556,
             "#d8576b"
            ],
            [
             0.6666666666666666,
             "#ed7953"
            ],
            [
             0.7777777777777778,
             "#fb9f3a"
            ],
            [
             0.8888888888888888,
             "#fdca26"
            ],
            [
             1,
             "#f0f921"
            ]
           ]
          },
          "colorway": [
           "#636efa",
           "#EF553B",
           "#00cc96",
           "#ab63fa",
           "#FFA15A",
           "#19d3f3",
           "#FF6692",
           "#B6E880",
           "#FF97FF",
           "#FECB52"
          ],
          "font": {
           "color": "#2a3f5f"
          },
          "geo": {
           "bgcolor": "white",
           "lakecolor": "white",
           "landcolor": "#E5ECF6",
           "showlakes": true,
           "showland": true,
           "subunitcolor": "white"
          },
          "hoverlabel": {
           "align": "left"
          },
          "hovermode": "closest",
          "mapbox": {
           "style": "light"
          },
          "paper_bgcolor": "white",
          "plot_bgcolor": "#E5ECF6",
          "polar": {
           "angularaxis": {
            "gridcolor": "white",
            "linecolor": "white",
            "ticks": ""
           },
           "bgcolor": "#E5ECF6",
           "radialaxis": {
            "gridcolor": "white",
            "linecolor": "white",
            "ticks": ""
           }
          },
          "scene": {
           "xaxis": {
            "backgroundcolor": "#E5ECF6",
            "gridcolor": "white",
            "gridwidth": 2,
            "linecolor": "white",
            "showbackground": true,
            "ticks": "",
            "zerolinecolor": "white"
           },
           "yaxis": {
            "backgroundcolor": "#E5ECF6",
            "gridcolor": "white",
            "gridwidth": 2,
            "linecolor": "white",
            "showbackground": true,
            "ticks": "",
            "zerolinecolor": "white"
           },
           "zaxis": {
            "backgroundcolor": "#E5ECF6",
            "gridcolor": "white",
            "gridwidth": 2,
            "linecolor": "white",
            "showbackground": true,
            "ticks": "",
            "zerolinecolor": "white"
           }
          },
          "shapedefaults": {
           "line": {
            "color": "#2a3f5f"
           }
          },
          "ternary": {
           "aaxis": {
            "gridcolor": "white",
            "linecolor": "white",
            "ticks": ""
           },
           "baxis": {
            "gridcolor": "white",
            "linecolor": "white",
            "ticks": ""
           },
           "bgcolor": "#E5ECF6",
           "caxis": {
            "gridcolor": "white",
            "linecolor": "white",
            "ticks": ""
           }
          },
          "title": {
           "x": 0.05
          },
          "xaxis": {
           "automargin": true,
           "gridcolor": "white",
           "linecolor": "white",
           "ticks": "",
           "title": {
            "standoff": 15
           },
           "zerolinecolor": "white",
           "zerolinewidth": 2
          },
          "yaxis": {
           "automargin": true,
           "gridcolor": "white",
           "linecolor": "white",
           "ticks": "",
           "title": {
            "standoff": 15
           },
           "zerolinecolor": "white",
           "zerolinewidth": 2
          }
         }
        },
        "title": {
         "text": "Population Distribution at Day 180"
        },
        "width": 400
       }
      },
      "text/html": [
       "<div>            <script src=\"https://cdnjs.cloudflare.com/ajax/libs/mathjax/2.7.5/MathJax.js?config=TeX-AMS-MML_SVG\"></script><script type=\"text/javascript\">if (window.MathJax && window.MathJax.Hub && window.MathJax.Hub.Config) {window.MathJax.Hub.Config({SVG: {font: \"STIX-Web\"}});}</script>                    <div id=\"5262e48c-8923-4bdd-98b2-4d9160d5c95c\" class=\"plotly-graph-div\" style=\"height:400px; width:400px;\"></div>            <script type=\"text/javascript\">                window.PLOTLYENV=window.PLOTLYENV || {};                                if (document.getElementById(\"5262e48c-8923-4bdd-98b2-4d9160d5c95c\")) {                    Plotly.newPlot(                        \"5262e48c-8923-4bdd-98b2-4d9160d5c95c\",                        [{\"labels\":[\"Susceptible\",\"Exposed\",\"Infected\",\"Recovered\",\"Deaths\"],\"marker\":{\"colors\":[\"lightblue\",\"orange\",\"red\",\"green\",\"black\"]},\"values\":[1116.6866724654972,0.048274149317317966,0.8734804572501814,89893.08324811654,8989.308324811649],\"type\":\"pie\"}],                        {\"template\":{\"data\":{\"histogram2dcontour\":[{\"type\":\"histogram2dcontour\",\"colorbar\":{\"outlinewidth\":0,\"ticks\":\"\"},\"colorscale\":[[0.0,\"#0d0887\"],[0.1111111111111111,\"#46039f\"],[0.2222222222222222,\"#7201a8\"],[0.3333333333333333,\"#9c179e\"],[0.4444444444444444,\"#bd3786\"],[0.5555555555555556,\"#d8576b\"],[0.6666666666666666,\"#ed7953\"],[0.7777777777777778,\"#fb9f3a\"],[0.8888888888888888,\"#fdca26\"],[1.0,\"#f0f921\"]]}],\"choropleth\":[{\"type\":\"choropleth\",\"colorbar\":{\"outlinewidth\":0,\"ticks\":\"\"}}],\"histogram2d\":[{\"type\":\"histogram2d\",\"colorbar\":{\"outlinewidth\":0,\"ticks\":\"\"},\"colorscale\":[[0.0,\"#0d0887\"],[0.1111111111111111,\"#46039f\"],[0.2222222222222222,\"#7201a8\"],[0.3333333333333333,\"#9c179e\"],[0.4444444444444444,\"#bd3786\"],[0.5555555555555556,\"#d8576b\"],[0.6666666666666666,\"#ed7953\"],[0.7777777777777778,\"#fb9f3a\"],[0.8888888888888888,\"#fdca26\"],[1.0,\"#f0f921\"]]}],\"heatmap\":[{\"type\":\"heatmap\",\"colorbar\":{\"outlinewidth\":0,\"ticks\":\"\"},\"colorscale\":[[0.0,\"#0d0887\"],[0.1111111111111111,\"#46039f\"],[0.2222222222222222,\"#7201a8\"],[0.3333333333333333,\"#9c179e\"],[0.4444444444444444,\"#bd3786\"],[0.5555555555555556,\"#d8576b\"],[0.6666666666666666,\"#ed7953\"],[0.7777777777777778,\"#fb9f3a\"],[0.8888888888888888,\"#fdca26\"],[1.0,\"#f0f921\"]]}],\"contourcarpet\":[{\"type\":\"contourcarpet\",\"colorbar\":{\"outlinewidth\":0,\"ticks\":\"\"}}],\"contour\":[{\"type\":\"contour\",\"colorbar\":{\"outlinewidth\":0,\"ticks\":\"\"},\"colorscale\":[[0.0,\"#0d0887\"],[0.1111111111111111,\"#46039f\"],[0.2222222222222222,\"#7201a8\"],[0.3333333333333333,\"#9c179e\"],[0.4444444444444444,\"#bd3786\"],[0.5555555555555556,\"#d8576b\"],[0.6666666666666666,\"#ed7953\"],[0.7777777777777778,\"#fb9f3a\"],[0.8888888888888888,\"#fdca26\"],[1.0,\"#f0f921\"]]}],\"surface\":[{\"type\":\"surface\",\"colorbar\":{\"outlinewidth\":0,\"ticks\":\"\"},\"colorscale\":[[0.0,\"#0d0887\"],[0.1111111111111111,\"#46039f\"],[0.2222222222222222,\"#7201a8\"],[0.3333333333333333,\"#9c179e\"],[0.4444444444444444,\"#bd3786\"],[0.5555555555555556,\"#d8576b\"],[0.6666666666666666,\"#ed7953\"],[0.7777777777777778,\"#fb9f3a\"],[0.8888888888888888,\"#fdca26\"],[1.0,\"#f0f921\"]]}],\"mesh3d\":[{\"type\":\"mesh3d\",\"colorbar\":{\"outlinewidth\":0,\"ticks\":\"\"}}],\"scatter\":[{\"fillpattern\":{\"fillmode\":\"overlay\",\"size\":10,\"solidity\":0.2},\"type\":\"scatter\"}],\"parcoords\":[{\"type\":\"parcoords\",\"line\":{\"colorbar\":{\"outlinewidth\":0,\"ticks\":\"\"}}}],\"scatterpolargl\":[{\"type\":\"scatterpolargl\",\"marker\":{\"colorbar\":{\"outlinewidth\":0,\"ticks\":\"\"}}}],\"bar\":[{\"error_x\":{\"color\":\"#2a3f5f\"},\"error_y\":{\"color\":\"#2a3f5f\"},\"marker\":{\"line\":{\"color\":\"#E5ECF6\",\"width\":0.5},\"pattern\":{\"fillmode\":\"overlay\",\"size\":10,\"solidity\":0.2}},\"type\":\"bar\"}],\"scattergeo\":[{\"type\":\"scattergeo\",\"marker\":{\"colorbar\":{\"outlinewidth\":0,\"ticks\":\"\"}}}],\"scatterpolar\":[{\"type\":\"scatterpolar\",\"marker\":{\"colorbar\":{\"outlinewidth\":0,\"ticks\":\"\"}}}],\"histogram\":[{\"marker\":{\"pattern\":{\"fillmode\":\"overlay\",\"size\":10,\"solidity\":0.2}},\"type\":\"histogram\"}],\"scattergl\":[{\"type\":\"scattergl\",\"marker\":{\"colorbar\":{\"outlinewidth\":0,\"ticks\":\"\"}}}],\"scatter3d\":[{\"type\":\"scatter3d\",\"line\":{\"colorbar\":{\"outlinewidth\":0,\"ticks\":\"\"}},\"marker\":{\"colorbar\":{\"outlinewidth\":0,\"ticks\":\"\"}}}],\"scattermap\":[{\"type\":\"scattermap\",\"marker\":{\"colorbar\":{\"outlinewidth\":0,\"ticks\":\"\"}}}],\"scattermapbox\":[{\"type\":\"scattermapbox\",\"marker\":{\"colorbar\":{\"outlinewidth\":0,\"ticks\":\"\"}}}],\"scatterternary\":[{\"type\":\"scatterternary\",\"marker\":{\"colorbar\":{\"outlinewidth\":0,\"ticks\":\"\"}}}],\"scattercarpet\":[{\"type\":\"scattercarpet\",\"marker\":{\"colorbar\":{\"outlinewidth\":0,\"ticks\":\"\"}}}],\"carpet\":[{\"aaxis\":{\"endlinecolor\":\"#2a3f5f\",\"gridcolor\":\"white\",\"linecolor\":\"white\",\"minorgridcolor\":\"white\",\"startlinecolor\":\"#2a3f5f\"},\"baxis\":{\"endlinecolor\":\"#2a3f5f\",\"gridcolor\":\"white\",\"linecolor\":\"white\",\"minorgridcolor\":\"white\",\"startlinecolor\":\"#2a3f5f\"},\"type\":\"carpet\"}],\"table\":[{\"cells\":{\"fill\":{\"color\":\"#EBF0F8\"},\"line\":{\"color\":\"white\"}},\"header\":{\"fill\":{\"color\":\"#C8D4E3\"},\"line\":{\"color\":\"white\"}},\"type\":\"table\"}],\"barpolar\":[{\"marker\":{\"line\":{\"color\":\"#E5ECF6\",\"width\":0.5},\"pattern\":{\"fillmode\":\"overlay\",\"size\":10,\"solidity\":0.2}},\"type\":\"barpolar\"}],\"pie\":[{\"automargin\":true,\"type\":\"pie\"}]},\"layout\":{\"autotypenumbers\":\"strict\",\"colorway\":[\"#636efa\",\"#EF553B\",\"#00cc96\",\"#ab63fa\",\"#FFA15A\",\"#19d3f3\",\"#FF6692\",\"#B6E880\",\"#FF97FF\",\"#FECB52\"],\"font\":{\"color\":\"#2a3f5f\"},\"hovermode\":\"closest\",\"hoverlabel\":{\"align\":\"left\"},\"paper_bgcolor\":\"white\",\"plot_bgcolor\":\"#E5ECF6\",\"polar\":{\"bgcolor\":\"#E5ECF6\",\"angularaxis\":{\"gridcolor\":\"white\",\"linecolor\":\"white\",\"ticks\":\"\"},\"radialaxis\":{\"gridcolor\":\"white\",\"linecolor\":\"white\",\"ticks\":\"\"}},\"ternary\":{\"bgcolor\":\"#E5ECF6\",\"aaxis\":{\"gridcolor\":\"white\",\"linecolor\":\"white\",\"ticks\":\"\"},\"baxis\":{\"gridcolor\":\"white\",\"linecolor\":\"white\",\"ticks\":\"\"},\"caxis\":{\"gridcolor\":\"white\",\"linecolor\":\"white\",\"ticks\":\"\"}},\"coloraxis\":{\"colorbar\":{\"outlinewidth\":0,\"ticks\":\"\"}},\"colorscale\":{\"sequential\":[[0.0,\"#0d0887\"],[0.1111111111111111,\"#46039f\"],[0.2222222222222222,\"#7201a8\"],[0.3333333333333333,\"#9c179e\"],[0.4444444444444444,\"#bd3786\"],[0.5555555555555556,\"#d8576b\"],[0.6666666666666666,\"#ed7953\"],[0.7777777777777778,\"#fb9f3a\"],[0.8888888888888888,\"#fdca26\"],[1.0,\"#f0f921\"]],\"sequentialminus\":[[0.0,\"#0d0887\"],[0.1111111111111111,\"#46039f\"],[0.2222222222222222,\"#7201a8\"],[0.3333333333333333,\"#9c179e\"],[0.4444444444444444,\"#bd3786\"],[0.5555555555555556,\"#d8576b\"],[0.6666666666666666,\"#ed7953\"],[0.7777777777777778,\"#fb9f3a\"],[0.8888888888888888,\"#fdca26\"],[1.0,\"#f0f921\"]],\"diverging\":[[0,\"#8e0152\"],[0.1,\"#c51b7d\"],[0.2,\"#de77ae\"],[0.3,\"#f1b6da\"],[0.4,\"#fde0ef\"],[0.5,\"#f7f7f7\"],[0.6,\"#e6f5d0\"],[0.7,\"#b8e186\"],[0.8,\"#7fbc41\"],[0.9,\"#4d9221\"],[1,\"#276419\"]]},\"xaxis\":{\"gridcolor\":\"white\",\"linecolor\":\"white\",\"ticks\":\"\",\"title\":{\"standoff\":15},\"zerolinecolor\":\"white\",\"automargin\":true,\"zerolinewidth\":2},\"yaxis\":{\"gridcolor\":\"white\",\"linecolor\":\"white\",\"ticks\":\"\",\"title\":{\"standoff\":15},\"zerolinecolor\":\"white\",\"automargin\":true,\"zerolinewidth\":2},\"scene\":{\"xaxis\":{\"backgroundcolor\":\"#E5ECF6\",\"gridcolor\":\"white\",\"linecolor\":\"white\",\"showbackground\":true,\"ticks\":\"\",\"zerolinecolor\":\"white\",\"gridwidth\":2},\"yaxis\":{\"backgroundcolor\":\"#E5ECF6\",\"gridcolor\":\"white\",\"linecolor\":\"white\",\"showbackground\":true,\"ticks\":\"\",\"zerolinecolor\":\"white\",\"gridwidth\":2},\"zaxis\":{\"backgroundcolor\":\"#E5ECF6\",\"gridcolor\":\"white\",\"linecolor\":\"white\",\"showbackground\":true,\"ticks\":\"\",\"zerolinecolor\":\"white\",\"gridwidth\":2}},\"shapedefaults\":{\"line\":{\"color\":\"#2a3f5f\"}},\"annotationdefaults\":{\"arrowcolor\":\"#2a3f5f\",\"arrowhead\":0,\"arrowwidth\":1},\"geo\":{\"bgcolor\":\"white\",\"landcolor\":\"#E5ECF6\",\"subunitcolor\":\"white\",\"showland\":true,\"showlakes\":true,\"lakecolor\":\"white\"},\"title\":{\"x\":0.05},\"mapbox\":{\"style\":\"light\"}}},\"title\":{\"text\":\"Population Distribution at Day 180\"},\"width\":400,\"height\":400},                        {\"responsive\": true}                    ).then(function(){\n",
       "                            \n",
       "var gd = document.getElementById('5262e48c-8923-4bdd-98b2-4d9160d5c95c');\n",
       "var x = new MutationObserver(function (mutations, observer) {{\n",
       "        var display = window.getComputedStyle(gd).display;\n",
       "        if (!display || display === 'none') {{\n",
       "            console.log([gd, 'removed!']);\n",
       "            Plotly.purge(gd);\n",
       "            observer.disconnect();\n",
       "        }}\n",
       "}});\n",
       "\n",
       "// Listen for the removal of the full notebook cells\n",
       "var notebookContainer = gd.closest('#notebook-container');\n",
       "if (notebookContainer) {{\n",
       "    x.observe(notebookContainer, {childList: true});\n",
       "}}\n",
       "\n",
       "// Listen for the clearing of the current output cell\n",
       "var outputEl = gd.closest('.output');\n",
       "if (outputEl) {{\n",
       "    x.observe(outputEl, {childList: true});\n",
       "}}\n",
       "\n",
       "                        })                };            </script>        </div>"
      ]
     },
     "metadata": {},
     "output_type": "display_data"
    },
    {
     "data": {
      "application/vnd.plotly.v1+json": {
       "config": {
        "plotlyServerURL": "https://plot.ly"
       },
       "data": [
        {
         "mode": "lines",
         "name": "New Infections",
         "type": "scatter",
         "x": {
          "bdata": "AAABAAIAAwAEAAUABgAHAAgACQAKAAsADAANAA4ADwAQABEAEgATABQAFQAWABcAGAAZABoAGwAcAB0AHgAfACAAIQAiACMAJAAlACYAJwAoACkAKgArACwALQAuAC8AMAAxADIAMwA0ADUANgA3ADgAOQA6ADsAPAA9AD4APwBAAEEAQgBDAEQARQBGAEcASABJAEoASwBMAE0ATgBPAFAAUQBSAFMAVABVAFYAVwBYAFkAWgBbAFwAXQBeAF8AYABhAGIAYwBkAGUAZgBnAGgAaQBqAGsAbABtAG4AbwBwAHEAcgBzAHQAdQB2AHcAeAB5AHoAewB8AH0AfgB/AIAAgQCCAIMAhACFAIYAhwCIAIkAigCLAIwAjQCOAI8AkACRAJIAkwCUAJUAlgCXAJgAmQCaAJsAnACdAJ4AnwCgAKEAogCjAKQApQCmAKcAqACpAKoAqwCsAK0ArgCvALAAsQCyAA==",
          "dtype": "i2"
         },
         "y": {
          "bdata": "AAAAAAAALkAAAHbchuAGQAAAfkCstAxAAEDBL2d1EUAAwMcwAeoUQACAFDjk2xhAAABADbRtHUAA4JlHy2EhQADArgucgiRAAODBfcAvKEAA4Jb9FoMsQADgN3FbzTBAAGArJOfMM0AA8E5jzFQ3QAAgUck7fTtAALjGwkwxQEAASPlCGxNDQACA+jKTd0ZAAGC+95p1SkAAKCMHAyhPQACcDQQUV1JAADAMdFWWVUAAnCrVIGdZQADc0tVP4l1AADjJ9F2SYUAA8EtZ5adkQACYpeMBRWhAAEzbFNZ/bEAAuRpB2LhwQAC4wPipm3NAAFBthZn4dkAACjWtyuF6QAAM9cBLa39AgCMK7XxVgkAAJJxwHlyFQAAZmO7F1YhAgC2lYtPOjEDA5owWnKmQQADfPUfUNpNAAH+lbUMTlkBAIlFTQEGZQIB2D01uwJxAYAnOx2BGoEDA5tE3t06iQIA4qWXucaRAYO5MY2OlpkBAnHDQ29qoQGAdO9GUAKtAICieQ8EBrUAgOTXgjseuQEAHnM5cHbBAWFjsUsqisECwAyaQKuuwQFBLpHKi8LBAOIinAjyxsECgdI6qUi+wQCB1vgrn4q5AgLkykmADrUDAq5QiBdmqQCDuPQvpfqhAQMuz5pcPpkBgUco33aKjQKAwdrtCTKFAQCe/97A0nkBAeQ39ZC2aQECP0oPWjJZAgCUdvOdVk0CACFb9/oWQQAAQkFqTLYxAAIVEon3/h0CA0eJtnG6EQAAr/oN3Z4FAAJat6MOufUAAw0IvT1p5QAA6z8/FsnVAAIQKmC2dckAAqnGlQwJwQADigt1rnGtAAHoYRI7gZ0AA0liF1rRkQAA6s+rMAWJAAEwlZMxnX0AAdFMcxnVbQAD4dAuJElhAAHAPOqknVUAAyOk+g6JSQACcq+WTc1BAAFC409gbTUAAOAf9fc1JQADID2H/6UZAANjuhSxiREAAKJ4OPClCQAAIL3NiNEBAABB0WPf0PEAAgFs9iOc5QABwxcc8MzdAABDRV8bMNEAAEDhMc6oyQADwOn3twzBAACD4+gckLkAAICUk/BwrQADgx27rZyhAACAAtnD7JUAAgNhoWc8jQABAS6R53CFAAGBsSIccIEAAgP2i9RMdQABAqfzpPxpAAMBJ1lC0F0AAgCMpjWkVQAAAkhLfWBNAAAA6Dkh8EUAAAA4N5pwPQAAAy30/lQxAAIAJEiLZCUAAgEi6+mAHQACAeeUCJgVAAIDFMykiA0AAgAsT/U8BQAAAj9I5Vf8/AAB11kxb/D8AAGerUar5PwAAlJAxO/c/AADcEYsH9T8AADQInwnzPwAAub0/PPE/AAAq6IM17z8AAB4g30HsPwAACHH3lek/AABCd/Aq5z8AAMgqmPrkPwAA0OdV/+I/AABSPxs04T8AAPisrCjfPwAACFrLN9w/AAAYQhqO2T8AAKAe2CTXPwAAbOHo9dQ/AAC8tsX70j8AAPCabjHRPwAAGMC6JM8/AAD47fM0zD8AAAjAH4zJPwAAUESJI8c/AAAYYB71xD8AAHBEYPvCPwAAUGVVMcE/AAAQi/kkvz8AANAFhTW8PwAAUOzqjLk/AADAp3sktz8AAIBkKfa0PwAAkLx4/LI/AABQ13IysT8AACC6MSevPwAAQDuxN6w/AAAghwSPqT8AAGAbfianPwAAAL4R+KQ/AABARUX+oj8AAMDJIjShPwAAQFFYKp8/AAAAa586nD8AAEDzu5GZPwAAAPkAKZc/AADAlmL6lD8AAIDfZgCTPwAAgPYXNpE/AACAlu8tjz8AAABg6T2MPwAAgB6+lIk/AACAtMArhz8AAAAJ5fyEPwAAgM+wAoM/AACAAy44gT8AAAB5vDF/PwAAAOheQXw/AAAA0uOXeT8AAABrnS53PwAAAAd//3Q/",
          "dtype": "f8"
         }
        },
        {
         "mode": "lines",
         "name": "New Deaths",
         "type": "scatter",
         "x": {
          "bdata": "AAABAAIAAwAEAAUABgAHAAgACQAKAAsADAANAA4ADwAQABEAEgATABQAFQAWABcAGAAZABoAGwAcAB0AHgAfACAAIQAiACMAJAAlACYAJwAoACkAKgArACwALQAuAC8AMAAxADIAMwA0ADUANgA3ADgAOQA6ADsAPAA9AD4APwBAAEEAQgBDAEQARQBGAEcASABJAEoASwBMAE0ATgBPAFAAUQBSAFMAVABVAFYAVwBYAFkAWgBbAFwAXQBeAF8AYABhAGIAYwBkAGUAZgBnAGgAaQBqAGsAbABtAG4AbwBwAHEAcgBzAHQAdQB2AHcAeAB5AHoAewB8AH0AfgB/AIAAgQCCAIMAhACFAIYAhwCIAIkAigCLAIwAjQCOAI8AkACRAJIAkwCUAJUAlgCXAJgAmQCaAJsAnACdAJ4AnwCgAKEAogCjAKQApQCmAKcAqACpAKoAqwCsAK0ArgCvALAAsQCyAA==",
          "dtype": "i2"
         },
         "y": {
          "bdata": "AAAAAAAAAABnTK8NlkmtP9JLfj0TYLI/IKIcJzBatj82tvUaE8e6P9ALwE6Q1L8/TnALbIvXwj+MfTe8hkLGP5gbAqe1RMo/6GMufvb6zj9YNsOmSUPSP8DIrbsnh9U/0IvZPsVf2T9ASQKswufdP1C2X5A1n+E/pCOtqUXE5D905kSitXjoP0j0l9f41ew/sFim+v388D8cT11s9QP0PxyqIq6LlPc/UJ7eeQLH+z8o/VsX6FsAQHwag14pRANAoE/cX8+vBkDQjso8trUKQMB9Ju6ScA9AzBkCFMZ/EkDwuTf4csMVQEAjgA1gmBlAUM6id/MWHkAg4gvgrK0hQHhAv9D9wiRAoL1rw/pdKEAYz89qxZMsQCTxyQkjvjBA/EXpBCmZM0AIEV1r3uk2QFgtEKCkwDpAICHI9DUvP0DIDT6bMyRCQNA1T8PfD0VAsMbbvW1kSEB4Puy9SCtMQITG4WhzNlBApDd0aAiYUkAYAYHXgjxVQBB+z0dAJFhAuMguJlhNW0BwrQraG7NeQHQZlpjVJmFAYPs63tcIY0DgwTlqKfhkQHi/IzS/62ZAgIXd8zjZaEDoGZ2zVLVqQLiEXPODdGxA4P2sq5QLbkCgpecfXHBvQPjV9yIoTXBAaJ6ZfH/BcEBwS9qkKxNxQFBNTENgQXFAqNGyyIBMcUCYDyBMADZxQEBGdoYzAHFAgKB5ORuucEBwtQDcLENwQAA6roc8hm9AYCxSCm9jbkAAgWvRWSVtQGBsdygD02tAoNusSeVyakCAIe+00wppQGDfkFntn2dAAKH/AZk2ZkBgc+t+idJkQMDAi1/HdmNAQHNRSb4lYkCAOeBqTOFgQACfM7SlVV9AAGoJ7IsGXUBAIE9letZaQIDsQsMDxlhAQN0HbjnVVkAAp27cwwNVQEBhuAj4UFNAgBs8G+q7UUAA5oF8fUNQQADofebkzE1AAJ+zKuNGS0AANcl8KvJIQABVY5ziy0ZAALL6xzLRREAADF2iS/9CQAA9Dt1uU0FAAGiEEuqVP0AAzI6vo8Y8QACqYB8uNDpAAOw76OzZN0AAylqfhbM1QAAGhJzgvDNAAAIVmSjyMUAA+rV1yU8wQAA8LLncpC1AAHB51f7tKkAA7BQHPnUoQAC0ytdNNSZAAIA+iUopJEAAzOXnskwiQADw/CRimyBAALgkgBMjHkAACCw6V1cbQADg1pgozRhAAFABJKt+FkAAEK1egmYUQADge+vHfxJAACC+QgLGEEAAMA75N2oOQADwsVi3kgtAAPD6lbj+CEAAoHFUDKgGQAAgl9gQiQRAAACR8qWcAkAAsNTWId4AQADgja6Nkv4/AAAK3nO0+z8AIH4l9Br5PwDgyHGwv/Y/AIDIF+Cc9D8AwKJ1Qq3yPwBgWrcS7PA/AEAuVPmp7j8AAKEOJcjrPwBA1kmHK+k/AEBZ7qfN5j8AABCnqKjkPwDAkMc2t+I/AACKdn704D8AAFD8PbjePwCAfFlA1Ns/AIC7VNE12T8AANhgatbWPwAABRwhsNQ/AID0zpi90j8AAB5A9fnQPwAAJ36dwc4/AADmik7cyz8AAPM8wTzJPwAAsOZm3MY/AAAWXE61xD8AADE4FcLCPwAATYHa/cA/AAA4FmXIvj8AAKDzN+K7PwAAOprrQbk/AAAupuzgtj8AABT5Rbm0PwAA5NiRxbI/AAAgfuwAsT8AAHi9z82uPwAAED4B56s/AABgFyhGqT8AABwDruSmPwAAUHybvKQ/AADEsYjIoj8AADgckAOhPwAAcEGE0p4/AAD4QzTrmz8AABCs6EmZPwAAGDgJ6JY/AAAIxJy/lD8AAHAfOsuSPwAAaHP6BZE/AABgY9rWjj8AAPCMGe+LPwAAcBtpTYk/AADAly/rhj8AABCLcsKEPwAAEKjHzYI/",
          "dtype": "f8"
         }
        }
       ],
       "layout": {
        "height": 300,
        "template": {
         "data": {
          "bar": [
           {
            "error_x": {
             "color": "#2a3f5f"
            },
            "error_y": {
             "color": "#2a3f5f"
            },
            "marker": {
             "line": {
              "color": "#E5ECF6",
              "width": 0.5
             },
             "pattern": {
              "fillmode": "overlay",
              "size": 10,
              "solidity": 0.2
             }
            },
            "type": "bar"
           }
          ],
          "barpolar": [
           {
            "marker": {
             "line": {
              "color": "#E5ECF6",
              "width": 0.5
             },
             "pattern": {
              "fillmode": "overlay",
              "size": 10,
              "solidity": 0.2
             }
            },
            "type": "barpolar"
           }
          ],
          "carpet": [
           {
            "aaxis": {
             "endlinecolor": "#2a3f5f",
             "gridcolor": "white",
             "linecolor": "white",
             "minorgridcolor": "white",
             "startlinecolor": "#2a3f5f"
            },
            "baxis": {
             "endlinecolor": "#2a3f5f",
             "gridcolor": "white",
             "linecolor": "white",
             "minorgridcolor": "white",
             "startlinecolor": "#2a3f5f"
            },
            "type": "carpet"
           }
          ],
          "choropleth": [
           {
            "colorbar": {
             "outlinewidth": 0,
             "ticks": ""
            },
            "type": "choropleth"
           }
          ],
          "contour": [
           {
            "colorbar": {
             "outlinewidth": 0,
             "ticks": ""
            },
            "colorscale": [
             [
              0,
              "#0d0887"
             ],
             [
              0.1111111111111111,
              "#46039f"
             ],
             [
              0.2222222222222222,
              "#7201a8"
             ],
             [
              0.3333333333333333,
              "#9c179e"
             ],
             [
              0.4444444444444444,
              "#bd3786"
             ],
             [
              0.5555555555555556,
              "#d8576b"
             ],
             [
              0.6666666666666666,
              "#ed7953"
             ],
             [
              0.7777777777777778,
              "#fb9f3a"
             ],
             [
              0.8888888888888888,
              "#fdca26"
             ],
             [
              1,
              "#f0f921"
             ]
            ],
            "type": "contour"
           }
          ],
          "contourcarpet": [
           {
            "colorbar": {
             "outlinewidth": 0,
             "ticks": ""
            },
            "type": "contourcarpet"
           }
          ],
          "heatmap": [
           {
            "colorbar": {
             "outlinewidth": 0,
             "ticks": ""
            },
            "colorscale": [
             [
              0,
              "#0d0887"
             ],
             [
              0.1111111111111111,
              "#46039f"
             ],
             [
              0.2222222222222222,
              "#7201a8"
             ],
             [
              0.3333333333333333,
              "#9c179e"
             ],
             [
              0.4444444444444444,
              "#bd3786"
             ],
             [
              0.5555555555555556,
              "#d8576b"
             ],
             [
              0.6666666666666666,
              "#ed7953"
             ],
             [
              0.7777777777777778,
              "#fb9f3a"
             ],
             [
              0.8888888888888888,
              "#fdca26"
             ],
             [
              1,
              "#f0f921"
             ]
            ],
            "type": "heatmap"
           }
          ],
          "histogram": [
           {
            "marker": {
             "pattern": {
              "fillmode": "overlay",
              "size": 10,
              "solidity": 0.2
             }
            },
            "type": "histogram"
           }
          ],
          "histogram2d": [
           {
            "colorbar": {
             "outlinewidth": 0,
             "ticks": ""
            },
            "colorscale": [
             [
              0,
              "#0d0887"
             ],
             [
              0.1111111111111111,
              "#46039f"
             ],
             [
              0.2222222222222222,
              "#7201a8"
             ],
             [
              0.3333333333333333,
              "#9c179e"
             ],
             [
              0.4444444444444444,
              "#bd3786"
             ],
             [
              0.5555555555555556,
              "#d8576b"
             ],
             [
              0.6666666666666666,
              "#ed7953"
             ],
             [
              0.7777777777777778,
              "#fb9f3a"
             ],
             [
              0.8888888888888888,
              "#fdca26"
             ],
             [
              1,
              "#f0f921"
             ]
            ],
            "type": "histogram2d"
           }
          ],
          "histogram2dcontour": [
           {
            "colorbar": {
             "outlinewidth": 0,
             "ticks": ""
            },
            "colorscale": [
             [
              0,
              "#0d0887"
             ],
             [
              0.1111111111111111,
              "#46039f"
             ],
             [
              0.2222222222222222,
              "#7201a8"
             ],
             [
              0.3333333333333333,
              "#9c179e"
             ],
             [
              0.4444444444444444,
              "#bd3786"
             ],
             [
              0.5555555555555556,
              "#d8576b"
             ],
             [
              0.6666666666666666,
              "#ed7953"
             ],
             [
              0.7777777777777778,
              "#fb9f3a"
             ],
             [
              0.8888888888888888,
              "#fdca26"
             ],
             [
              1,
              "#f0f921"
             ]
            ],
            "type": "histogram2dcontour"
           }
          ],
          "mesh3d": [
           {
            "colorbar": {
             "outlinewidth": 0,
             "ticks": ""
            },
            "type": "mesh3d"
           }
          ],
          "parcoords": [
           {
            "line": {
             "colorbar": {
              "outlinewidth": 0,
              "ticks": ""
             }
            },
            "type": "parcoords"
           }
          ],
          "pie": [
           {
            "automargin": true,
            "type": "pie"
           }
          ],
          "scatter": [
           {
            "fillpattern": {
             "fillmode": "overlay",
             "size": 10,
             "solidity": 0.2
            },
            "type": "scatter"
           }
          ],
          "scatter3d": [
           {
            "line": {
             "colorbar": {
              "outlinewidth": 0,
              "ticks": ""
             }
            },
            "marker": {
             "colorbar": {
              "outlinewidth": 0,
              "ticks": ""
             }
            },
            "type": "scatter3d"
           }
          ],
          "scattercarpet": [
           {
            "marker": {
             "colorbar": {
              "outlinewidth": 0,
              "ticks": ""
             }
            },
            "type": "scattercarpet"
           }
          ],
          "scattergeo": [
           {
            "marker": {
             "colorbar": {
              "outlinewidth": 0,
              "ticks": ""
             }
            },
            "type": "scattergeo"
           }
          ],
          "scattergl": [
           {
            "marker": {
             "colorbar": {
              "outlinewidth": 0,
              "ticks": ""
             }
            },
            "type": "scattergl"
           }
          ],
          "scattermap": [
           {
            "marker": {
             "colorbar": {
              "outlinewidth": 0,
              "ticks": ""
             }
            },
            "type": "scattermap"
           }
          ],
          "scattermapbox": [
           {
            "marker": {
             "colorbar": {
              "outlinewidth": 0,
              "ticks": ""
             }
            },
            "type": "scattermapbox"
           }
          ],
          "scatterpolar": [
           {
            "marker": {
             "colorbar": {
              "outlinewidth": 0,
              "ticks": ""
             }
            },
            "type": "scatterpolar"
           }
          ],
          "scatterpolargl": [
           {
            "marker": {
             "colorbar": {
              "outlinewidth": 0,
              "ticks": ""
             }
            },
            "type": "scatterpolargl"
           }
          ],
          "scatterternary": [
           {
            "marker": {
             "colorbar": {
              "outlinewidth": 0,
              "ticks": ""
             }
            },
            "type": "scatterternary"
           }
          ],
          "surface": [
           {
            "colorbar": {
             "outlinewidth": 0,
             "ticks": ""
            },
            "colorscale": [
             [
              0,
              "#0d0887"
             ],
             [
              0.1111111111111111,
              "#46039f"
             ],
             [
              0.2222222222222222,
              "#7201a8"
             ],
             [
              0.3333333333333333,
              "#9c179e"
             ],
             [
              0.4444444444444444,
              "#bd3786"
             ],
             [
              0.5555555555555556,
              "#d8576b"
             ],
             [
              0.6666666666666666,
              "#ed7953"
             ],
             [
              0.7777777777777778,
              "#fb9f3a"
             ],
             [
              0.8888888888888888,
              "#fdca26"
             ],
             [
              1,
              "#f0f921"
             ]
            ],
            "type": "surface"
           }
          ],
          "table": [
           {
            "cells": {
             "fill": {
              "color": "#EBF0F8"
             },
             "line": {
              "color": "white"
             }
            },
            "header": {
             "fill": {
              "color": "#C8D4E3"
             },
             "line": {
              "color": "white"
             }
            },
            "type": "table"
           }
          ]
         },
         "layout": {
          "annotationdefaults": {
           "arrowcolor": "#2a3f5f",
           "arrowhead": 0,
           "arrowwidth": 1
          },
          "autotypenumbers": "strict",
          "coloraxis": {
           "colorbar": {
            "outlinewidth": 0,
            "ticks": ""
           }
          },
          "colorscale": {
           "diverging": [
            [
             0,
             "#8e0152"
            ],
            [
             0.1,
             "#c51b7d"
            ],
            [
             0.2,
             "#de77ae"
            ],
            [
             0.3,
             "#f1b6da"
            ],
            [
             0.4,
             "#fde0ef"
            ],
            [
             0.5,
             "#f7f7f7"
            ],
            [
             0.6,
             "#e6f5d0"
            ],
            [
             0.7,
             "#b8e186"
            ],
            [
             0.8,
             "#7fbc41"
            ],
            [
             0.9,
             "#4d9221"
            ],
            [
             1,
             "#276419"
            ]
           ],
           "sequential": [
            [
             0,
             "#0d0887"
            ],
            [
             0.1111111111111111,
             "#46039f"
            ],
            [
             0.2222222222222222,
             "#7201a8"
            ],
            [
             0.3333333333333333,
             "#9c179e"
            ],
            [
             0.4444444444444444,
             "#bd3786"
            ],
            [
             0.5555555555555556,
             "#d8576b"
            ],
            [
             0.6666666666666666,
             "#ed7953"
            ],
            [
             0.7777777777777778,
             "#fb9f3a"
            ],
            [
             0.8888888888888888,
             "#fdca26"
            ],
            [
             1,
             "#f0f921"
            ]
           ],
           "sequentialminus": [
            [
             0,
             "#0d0887"
            ],
            [
             0.1111111111111111,
             "#46039f"
            ],
            [
             0.2222222222222222,
             "#7201a8"
            ],
            [
             0.3333333333333333,
             "#9c179e"
            ],
            [
             0.4444444444444444,
             "#bd3786"
            ],
            [
             0.5555555555555556,
             "#d8576b"
            ],
            [
             0.6666666666666666,
             "#ed7953"
            ],
            [
             0.7777777777777778,
             "#fb9f3a"
            ],
            [
             0.8888888888888888,
             "#fdca26"
            ],
            [
             1,
             "#f0f921"
            ]
           ]
          },
          "colorway": [
           "#636efa",
           "#EF553B",
           "#00cc96",
           "#ab63fa",
           "#FFA15A",
           "#19d3f3",
           "#FF6692",
           "#B6E880",
           "#FF97FF",
           "#FECB52"
          ],
          "font": {
           "color": "#2a3f5f"
          },
          "geo": {
           "bgcolor": "white",
           "lakecolor": "white",
           "landcolor": "#E5ECF6",
           "showlakes": true,
           "showland": true,
           "subunitcolor": "white"
          },
          "hoverlabel": {
           "align": "left"
          },
          "hovermode": "closest",
          "mapbox": {
           "style": "light"
          },
          "paper_bgcolor": "white",
          "plot_bgcolor": "#E5ECF6",
          "polar": {
           "angularaxis": {
            "gridcolor": "white",
            "linecolor": "white",
            "ticks": ""
           },
           "bgcolor": "#E5ECF6",
           "radialaxis": {
            "gridcolor": "white",
            "linecolor": "white",
            "ticks": ""
           }
          },
          "scene": {
           "xaxis": {
            "backgroundcolor": "#E5ECF6",
            "gridcolor": "white",
            "gridwidth": 2,
            "linecolor": "white",
            "showbackground": true,
            "ticks": "",
            "zerolinecolor": "white"
           },
           "yaxis": {
            "backgroundcolor": "#E5ECF6",
            "gridcolor": "white",
            "gridwidth": 2,
            "linecolor": "white",
            "showbackground": true,
            "ticks": "",
            "zerolinecolor": "white"
           },
           "zaxis": {
            "backgroundcolor": "#E5ECF6",
            "gridcolor": "white",
            "gridwidth": 2,
            "linecolor": "white",
            "showbackground": true,
            "ticks": "",
            "zerolinecolor": "white"
           }
          },
          "shapedefaults": {
           "line": {
            "color": "#2a3f5f"
           }
          },
          "ternary": {
           "aaxis": {
            "gridcolor": "white",
            "linecolor": "white",
            "ticks": ""
           },
           "baxis": {
            "gridcolor": "white",
            "linecolor": "white",
            "ticks": ""
           },
           "bgcolor": "#E5ECF6",
           "caxis": {
            "gridcolor": "white",
            "linecolor": "white",
            "ticks": ""
           }
          },
          "title": {
           "x": 0.05
          },
          "xaxis": {
           "automargin": true,
           "gridcolor": "white",
           "linecolor": "white",
           "ticks": "",
           "title": {
            "standoff": 15
           },
           "zerolinecolor": "white",
           "zerolinewidth": 2
          },
          "yaxis": {
           "automargin": true,
           "gridcolor": "white",
           "linecolor": "white",
           "ticks": "",
           "title": {
            "standoff": 15
           },
           "zerolinecolor": "white",
           "zerolinewidth": 2
          }
         }
        },
        "title": {
         "text": "Daily Incidence"
        },
        "width": 700,
        "xaxis": {
         "title": {
          "text": "Day"
         }
        },
        "yaxis": {
         "title": {
          "text": "Daily Cases"
         }
        }
       }
      },
      "text/html": [
       "<div>            <script src=\"https://cdnjs.cloudflare.com/ajax/libs/mathjax/2.7.5/MathJax.js?config=TeX-AMS-MML_SVG\"></script><script type=\"text/javascript\">if (window.MathJax && window.MathJax.Hub && window.MathJax.Hub.Config) {window.MathJax.Hub.Config({SVG: {font: \"STIX-Web\"}});}</script>                    <div id=\"516f17a7-e2d2-4ea8-a7a8-0b6539935961\" class=\"plotly-graph-div\" style=\"height:300px; width:700px;\"></div>            <script type=\"text/javascript\">                window.PLOTLYENV=window.PLOTLYENV || {};                                if (document.getElementById(\"516f17a7-e2d2-4ea8-a7a8-0b6539935961\")) {                    Plotly.newPlot(                        \"516f17a7-e2d2-4ea8-a7a8-0b6539935961\",                        [{\"mode\":\"lines\",\"name\":\"New Infections\",\"x\":{\"dtype\":\"i2\",\"bdata\":\"AAABAAIAAwAEAAUABgAHAAgACQAKAAsADAANAA4ADwAQABEAEgATABQAFQAWABcAGAAZABoAGwAcAB0AHgAfACAAIQAiACMAJAAlACYAJwAoACkAKgArACwALQAuAC8AMAAxADIAMwA0ADUANgA3ADgAOQA6ADsAPAA9AD4APwBAAEEAQgBDAEQARQBGAEcASABJAEoASwBMAE0ATgBPAFAAUQBSAFMAVABVAFYAVwBYAFkAWgBbAFwAXQBeAF8AYABhAGIAYwBkAGUAZgBnAGgAaQBqAGsAbABtAG4AbwBwAHEAcgBzAHQAdQB2AHcAeAB5AHoAewB8AH0AfgB\\u002fAIAAgQCCAIMAhACFAIYAhwCIAIkAigCLAIwAjQCOAI8AkACRAJIAkwCUAJUAlgCXAJgAmQCaAJsAnACdAJ4AnwCgAKEAogCjAKQApQCmAKcAqACpAKoAqwCsAK0ArgCvALAAsQCyAA==\"},\"y\":{\"dtype\":\"f8\",\"bdata\":\"AAAAAAAALkAAAHbchuAGQAAAfkCstAxAAEDBL2d1EUAAwMcwAeoUQACAFDjk2xhAAABADbRtHUAA4JlHy2EhQADArgucgiRAAODBfcAvKEAA4Jb9FoMsQADgN3FbzTBAAGArJOfMM0AA8E5jzFQ3QAAgUck7fTtAALjGwkwxQEAASPlCGxNDQACA+jKTd0ZAAGC+95p1SkAAKCMHAyhPQACcDQQUV1JAADAMdFWWVUAAnCrVIGdZQADc0tVP4l1AADjJ9F2SYUAA8EtZ5adkQACYpeMBRWhAAEzbFNZ\\u002fbEAAuRpB2LhwQAC4wPipm3NAAFBthZn4dkAACjWtyuF6QAAM9cBLa39AgCMK7XxVgkAAJJxwHlyFQAAZmO7F1YhAgC2lYtPOjEDA5owWnKmQQADfPUfUNpNAAH+lbUMTlkBAIlFTQEGZQIB2D01uwJxAYAnOx2BGoEDA5tE3t06iQIA4qWXucaRAYO5MY2OlpkBAnHDQ29qoQGAdO9GUAKtAICieQ8EBrUAgOTXgjseuQEAHnM5cHbBAWFjsUsqisECwAyaQKuuwQFBLpHKi8LBAOIinAjyxsECgdI6qUi+wQCB1vgrn4q5AgLkykmADrUDAq5QiBdmqQCDuPQvpfqhAQMuz5pcPpkBgUco33aKjQKAwdrtCTKFAQCe\\u002f97A0nkBAeQ39ZC2aQECP0oPWjJZAgCUdvOdVk0CACFb9\\u002foWQQAAQkFqTLYxAAIVEon3\\u002fh0CA0eJtnG6EQAAr\\u002foN3Z4FAAJat6MOufUAAw0IvT1p5QAA6z8\\u002fFsnVAAIQKmC2dckAAqnGlQwJwQADigt1rnGtAAHoYRI7gZ0AA0liF1rRkQAA6s+rMAWJAAEwlZMxnX0AAdFMcxnVbQAD4dAuJElhAAHAPOqknVUAAyOk+g6JSQACcq+WTc1BAAFC409gbTUAAOAf9fc1JQADID2H\\u002f6UZAANjuhSxiREAAKJ4OPClCQAAIL3NiNEBAABB0WPf0PEAAgFs9iOc5QABwxcc8MzdAABDRV8bMNEAAEDhMc6oyQADwOn3twzBAACD4+gckLkAAICUk\\u002fBwrQADgx27rZyhAACAAtnD7JUAAgNhoWc8jQABAS6R53CFAAGBsSIccIEAAgP2i9RMdQABAqfzpPxpAAMBJ1lC0F0AAgCMpjWkVQAAAkhLfWBNAAAA6Dkh8EUAAAA4N5pwPQAAAy30\\u002flQxAAIAJEiLZCUAAgEi6+mAHQACAeeUCJgVAAIDFMykiA0AAgAsT\\u002fU8BQAAAj9I5Vf8\\u002fAAB11kxb\\u002fD8AAGerUar5PwAAlJAxO\\u002fc\\u002fAADcEYsH9T8AADQInwnzPwAAub0\\u002fPPE\\u002fAAAq6IM17z8AAB4g30HsPwAACHH3lek\\u002fAABCd\\u002fAq5z8AAMgqmPrkPwAA0OdV\\u002f+I\\u002fAABSPxs04T8AAPisrCjfPwAACFrLN9w\\u002fAAAYQhqO2T8AAKAe2CTXPwAAbOHo9dQ\\u002fAAC8tsX70j8AAPCabjHRPwAAGMC6JM8\\u002fAAD47fM0zD8AAAjAH4zJPwAAUESJI8c\\u002fAAAYYB71xD8AAHBEYPvCPwAAUGVVMcE\\u002fAAAQi\\u002fkkvz8AANAFhTW8PwAAUOzqjLk\\u002fAADAp3sktz8AAIBkKfa0PwAAkLx4\\u002fLI\\u002fAABQ13IysT8AACC6MSevPwAAQDuxN6w\\u002fAAAghwSPqT8AAGAbfianPwAAAL4R+KQ\\u002fAABARUX+oj8AAMDJIjShPwAAQFFYKp8\\u002fAAAAa586nD8AAEDzu5GZPwAAAPkAKZc\\u002fAADAlmL6lD8AAIDfZgCTPwAAgPYXNpE\\u002fAACAlu8tjz8AAABg6T2MPwAAgB6+lIk\\u002fAACAtMArhz8AAAAJ5fyEPwAAgM+wAoM\\u002fAACAAy44gT8AAAB5vDF\\u002fPwAAAOheQXw\\u002fAAAA0uOXeT8AAABrnS53PwAAAAd\\u002f\\u002f3Q\\u002f\"},\"type\":\"scatter\"},{\"mode\":\"lines\",\"name\":\"New Deaths\",\"x\":{\"dtype\":\"i2\",\"bdata\":\"AAABAAIAAwAEAAUABgAHAAgACQAKAAsADAANAA4ADwAQABEAEgATABQAFQAWABcAGAAZABoAGwAcAB0AHgAfACAAIQAiACMAJAAlACYAJwAoACkAKgArACwALQAuAC8AMAAxADIAMwA0ADUANgA3ADgAOQA6ADsAPAA9AD4APwBAAEEAQgBDAEQARQBGAEcASABJAEoASwBMAE0ATgBPAFAAUQBSAFMAVABVAFYAVwBYAFkAWgBbAFwAXQBeAF8AYABhAGIAYwBkAGUAZgBnAGgAaQBqAGsAbABtAG4AbwBwAHEAcgBzAHQAdQB2AHcAeAB5AHoAewB8AH0AfgB\\u002fAIAAgQCCAIMAhACFAIYAhwCIAIkAigCLAIwAjQCOAI8AkACRAJIAkwCUAJUAlgCXAJgAmQCaAJsAnACdAJ4AnwCgAKEAogCjAKQApQCmAKcAqACpAKoAqwCsAK0ArgCvALAAsQCyAA==\"},\"y\":{\"dtype\":\"f8\",\"bdata\":\"AAAAAAAAAABnTK8NlkmtP9JLfj0TYLI\\u002fIKIcJzBatj82tvUaE8e6P9ALwE6Q1L8\\u002fTnALbIvXwj+MfTe8hkLGP5gbAqe1RMo\\u002f6GMufvb6zj9YNsOmSUPSP8DIrbsnh9U\\u002f0IvZPsVf2T9ASQKswufdP1C2X5A1n+E\\u002fpCOtqUXE5D905kSitXjoP0j0l9f41ew\\u002fsFim+v388D8cT11s9QP0PxyqIq6LlPc\\u002fUJ7eeQLH+z8o\\u002fVsX6FsAQHwag14pRANAoE\\u002fcX8+vBkDQjso8trUKQMB9Ju6ScA9AzBkCFMZ\\u002fEkDwuTf4csMVQEAjgA1gmBlAUM6id\\u002fMWHkAg4gvgrK0hQHhAv9D9wiRAoL1rw\\u002fpdKEAYz89qxZMsQCTxyQkjvjBA\\u002fEXpBCmZM0AIEV1r3uk2QFgtEKCkwDpAICHI9DUvP0DIDT6bMyRCQNA1T8PfD0VAsMbbvW1kSEB4Puy9SCtMQITG4WhzNlBApDd0aAiYUkAYAYHXgjxVQBB+z0dAJFhAuMguJlhNW0BwrQraG7NeQHQZlpjVJmFAYPs63tcIY0DgwTlqKfhkQHi\\u002fIzS\\u002f62ZAgIXd8zjZaEDoGZ2zVLVqQLiEXPODdGxA4P2sq5QLbkCgpecfXHBvQPjV9yIoTXBAaJ6ZfH\\u002fBcEBwS9qkKxNxQFBNTENgQXFAqNGyyIBMcUCYDyBMADZxQEBGdoYzAHFAgKB5ORuucEBwtQDcLENwQAA6roc8hm9AYCxSCm9jbkAAgWvRWSVtQGBsdygD02tAoNusSeVyakCAIe+00wppQGDfkFntn2dAAKH\\u002fAZk2ZkBgc+t+idJkQMDAi1\\u002fHdmNAQHNRSb4lYkCAOeBqTOFgQACfM7SlVV9AAGoJ7IsGXUBAIE9letZaQIDsQsMDxlhAQN0HbjnVVkAAp27cwwNVQEBhuAj4UFNAgBs8G+q7UUAA5oF8fUNQQADofebkzE1AAJ+zKuNGS0AANcl8KvJIQABVY5ziy0ZAALL6xzLRREAADF2iS\\u002f9CQAA9Dt1uU0FAAGiEEuqVP0AAzI6vo8Y8QACqYB8uNDpAAOw76OzZN0AAylqfhbM1QAAGhJzgvDNAAAIVmSjyMUAA+rV1yU8wQAA8LLncpC1AAHB51f7tKkAA7BQHPnUoQAC0ytdNNSZAAIA+iUopJEAAzOXnskwiQADw\\u002fCRimyBAALgkgBMjHkAACCw6V1cbQADg1pgozRhAAFABJKt+FkAAEK1egmYUQADge+vHfxJAACC+QgLGEEAAMA75N2oOQADwsVi3kgtAAPD6lbj+CEAAoHFUDKgGQAAgl9gQiQRAAACR8qWcAkAAsNTWId4AQADgja6Nkv4\\u002fAAAK3nO0+z8AIH4l9Br5PwDgyHGwv\\u002fY\\u002fAIDIF+Cc9D8AwKJ1Qq3yPwBgWrcS7PA\\u002fAEAuVPmp7j8AAKEOJcjrPwBA1kmHK+k\\u002fAEBZ7qfN5j8AABCnqKjkPwDAkMc2t+I\\u002fAACKdn704D8AAFD8PbjePwCAfFlA1Ns\\u002fAIC7VNE12T8AANhgatbWPwAABRwhsNQ\\u002fAID0zpi90j8AAB5A9fnQPwAAJ36dwc4\\u002fAADmik7cyz8AAPM8wTzJPwAAsOZm3MY\\u002fAAAWXE61xD8AADE4FcLCPwAATYHa\\u002fcA\\u002fAAA4FmXIvj8AAKDzN+K7PwAAOprrQbk\\u002fAAAupuzgtj8AABT5Rbm0PwAA5NiRxbI\\u002fAAAgfuwAsT8AAHi9z82uPwAAED4B56s\\u002fAABgFyhGqT8AABwDruSmPwAAUHybvKQ\\u002fAADEsYjIoj8AADgckAOhPwAAcEGE0p4\\u002fAAD4QzTrmz8AABCs6EmZPwAAGDgJ6JY\\u002fAAAIxJy\\u002flD8AAHAfOsuSPwAAaHP6BZE\\u002fAABgY9rWjj8AAPCMGe+LPwAAcBtpTYk\\u002fAADAly\\u002frhj8AABCLcsKEPwAAEKjHzYI\\u002f\"},\"type\":\"scatter\"}],                        {\"template\":{\"data\":{\"histogram2dcontour\":[{\"type\":\"histogram2dcontour\",\"colorbar\":{\"outlinewidth\":0,\"ticks\":\"\"},\"colorscale\":[[0.0,\"#0d0887\"],[0.1111111111111111,\"#46039f\"],[0.2222222222222222,\"#7201a8\"],[0.3333333333333333,\"#9c179e\"],[0.4444444444444444,\"#bd3786\"],[0.5555555555555556,\"#d8576b\"],[0.6666666666666666,\"#ed7953\"],[0.7777777777777778,\"#fb9f3a\"],[0.8888888888888888,\"#fdca26\"],[1.0,\"#f0f921\"]]}],\"choropleth\":[{\"type\":\"choropleth\",\"colorbar\":{\"outlinewidth\":0,\"ticks\":\"\"}}],\"histogram2d\":[{\"type\":\"histogram2d\",\"colorbar\":{\"outlinewidth\":0,\"ticks\":\"\"},\"colorscale\":[[0.0,\"#0d0887\"],[0.1111111111111111,\"#46039f\"],[0.2222222222222222,\"#7201a8\"],[0.3333333333333333,\"#9c179e\"],[0.4444444444444444,\"#bd3786\"],[0.5555555555555556,\"#d8576b\"],[0.6666666666666666,\"#ed7953\"],[0.7777777777777778,\"#fb9f3a\"],[0.8888888888888888,\"#fdca26\"],[1.0,\"#f0f921\"]]}],\"heatmap\":[{\"type\":\"heatmap\",\"colorbar\":{\"outlinewidth\":0,\"ticks\":\"\"},\"colorscale\":[[0.0,\"#0d0887\"],[0.1111111111111111,\"#46039f\"],[0.2222222222222222,\"#7201a8\"],[0.3333333333333333,\"#9c179e\"],[0.4444444444444444,\"#bd3786\"],[0.5555555555555556,\"#d8576b\"],[0.6666666666666666,\"#ed7953\"],[0.7777777777777778,\"#fb9f3a\"],[0.8888888888888888,\"#fdca26\"],[1.0,\"#f0f921\"]]}],\"contourcarpet\":[{\"type\":\"contourcarpet\",\"colorbar\":{\"outlinewidth\":0,\"ticks\":\"\"}}],\"contour\":[{\"type\":\"contour\",\"colorbar\":{\"outlinewidth\":0,\"ticks\":\"\"},\"colorscale\":[[0.0,\"#0d0887\"],[0.1111111111111111,\"#46039f\"],[0.2222222222222222,\"#7201a8\"],[0.3333333333333333,\"#9c179e\"],[0.4444444444444444,\"#bd3786\"],[0.5555555555555556,\"#d8576b\"],[0.6666666666666666,\"#ed7953\"],[0.7777777777777778,\"#fb9f3a\"],[0.8888888888888888,\"#fdca26\"],[1.0,\"#f0f921\"]]}],\"surface\":[{\"type\":\"surface\",\"colorbar\":{\"outlinewidth\":0,\"ticks\":\"\"},\"colorscale\":[[0.0,\"#0d0887\"],[0.1111111111111111,\"#46039f\"],[0.2222222222222222,\"#7201a8\"],[0.3333333333333333,\"#9c179e\"],[0.4444444444444444,\"#bd3786\"],[0.5555555555555556,\"#d8576b\"],[0.6666666666666666,\"#ed7953\"],[0.7777777777777778,\"#fb9f3a\"],[0.8888888888888888,\"#fdca26\"],[1.0,\"#f0f921\"]]}],\"mesh3d\":[{\"type\":\"mesh3d\",\"colorbar\":{\"outlinewidth\":0,\"ticks\":\"\"}}],\"scatter\":[{\"fillpattern\":{\"fillmode\":\"overlay\",\"size\":10,\"solidity\":0.2},\"type\":\"scatter\"}],\"parcoords\":[{\"type\":\"parcoords\",\"line\":{\"colorbar\":{\"outlinewidth\":0,\"ticks\":\"\"}}}],\"scatterpolargl\":[{\"type\":\"scatterpolargl\",\"marker\":{\"colorbar\":{\"outlinewidth\":0,\"ticks\":\"\"}}}],\"bar\":[{\"error_x\":{\"color\":\"#2a3f5f\"},\"error_y\":{\"color\":\"#2a3f5f\"},\"marker\":{\"line\":{\"color\":\"#E5ECF6\",\"width\":0.5},\"pattern\":{\"fillmode\":\"overlay\",\"size\":10,\"solidity\":0.2}},\"type\":\"bar\"}],\"scattergeo\":[{\"type\":\"scattergeo\",\"marker\":{\"colorbar\":{\"outlinewidth\":0,\"ticks\":\"\"}}}],\"scatterpolar\":[{\"type\":\"scatterpolar\",\"marker\":{\"colorbar\":{\"outlinewidth\":0,\"ticks\":\"\"}}}],\"histogram\":[{\"marker\":{\"pattern\":{\"fillmode\":\"overlay\",\"size\":10,\"solidity\":0.2}},\"type\":\"histogram\"}],\"scattergl\":[{\"type\":\"scattergl\",\"marker\":{\"colorbar\":{\"outlinewidth\":0,\"ticks\":\"\"}}}],\"scatter3d\":[{\"type\":\"scatter3d\",\"line\":{\"colorbar\":{\"outlinewidth\":0,\"ticks\":\"\"}},\"marker\":{\"colorbar\":{\"outlinewidth\":0,\"ticks\":\"\"}}}],\"scattermap\":[{\"type\":\"scattermap\",\"marker\":{\"colorbar\":{\"outlinewidth\":0,\"ticks\":\"\"}}}],\"scattermapbox\":[{\"type\":\"scattermapbox\",\"marker\":{\"colorbar\":{\"outlinewidth\":0,\"ticks\":\"\"}}}],\"scatterternary\":[{\"type\":\"scatterternary\",\"marker\":{\"colorbar\":{\"outlinewidth\":0,\"ticks\":\"\"}}}],\"scattercarpet\":[{\"type\":\"scattercarpet\",\"marker\":{\"colorbar\":{\"outlinewidth\":0,\"ticks\":\"\"}}}],\"carpet\":[{\"aaxis\":{\"endlinecolor\":\"#2a3f5f\",\"gridcolor\":\"white\",\"linecolor\":\"white\",\"minorgridcolor\":\"white\",\"startlinecolor\":\"#2a3f5f\"},\"baxis\":{\"endlinecolor\":\"#2a3f5f\",\"gridcolor\":\"white\",\"linecolor\":\"white\",\"minorgridcolor\":\"white\",\"startlinecolor\":\"#2a3f5f\"},\"type\":\"carpet\"}],\"table\":[{\"cells\":{\"fill\":{\"color\":\"#EBF0F8\"},\"line\":{\"color\":\"white\"}},\"header\":{\"fill\":{\"color\":\"#C8D4E3\"},\"line\":{\"color\":\"white\"}},\"type\":\"table\"}],\"barpolar\":[{\"marker\":{\"line\":{\"color\":\"#E5ECF6\",\"width\":0.5},\"pattern\":{\"fillmode\":\"overlay\",\"size\":10,\"solidity\":0.2}},\"type\":\"barpolar\"}],\"pie\":[{\"automargin\":true,\"type\":\"pie\"}]},\"layout\":{\"autotypenumbers\":\"strict\",\"colorway\":[\"#636efa\",\"#EF553B\",\"#00cc96\",\"#ab63fa\",\"#FFA15A\",\"#19d3f3\",\"#FF6692\",\"#B6E880\",\"#FF97FF\",\"#FECB52\"],\"font\":{\"color\":\"#2a3f5f\"},\"hovermode\":\"closest\",\"hoverlabel\":{\"align\":\"left\"},\"paper_bgcolor\":\"white\",\"plot_bgcolor\":\"#E5ECF6\",\"polar\":{\"bgcolor\":\"#E5ECF6\",\"angularaxis\":{\"gridcolor\":\"white\",\"linecolor\":\"white\",\"ticks\":\"\"},\"radialaxis\":{\"gridcolor\":\"white\",\"linecolor\":\"white\",\"ticks\":\"\"}},\"ternary\":{\"bgcolor\":\"#E5ECF6\",\"aaxis\":{\"gridcolor\":\"white\",\"linecolor\":\"white\",\"ticks\":\"\"},\"baxis\":{\"gridcolor\":\"white\",\"linecolor\":\"white\",\"ticks\":\"\"},\"caxis\":{\"gridcolor\":\"white\",\"linecolor\":\"white\",\"ticks\":\"\"}},\"coloraxis\":{\"colorbar\":{\"outlinewidth\":0,\"ticks\":\"\"}},\"colorscale\":{\"sequential\":[[0.0,\"#0d0887\"],[0.1111111111111111,\"#46039f\"],[0.2222222222222222,\"#7201a8\"],[0.3333333333333333,\"#9c179e\"],[0.4444444444444444,\"#bd3786\"],[0.5555555555555556,\"#d8576b\"],[0.6666666666666666,\"#ed7953\"],[0.7777777777777778,\"#fb9f3a\"],[0.8888888888888888,\"#fdca26\"],[1.0,\"#f0f921\"]],\"sequentialminus\":[[0.0,\"#0d0887\"],[0.1111111111111111,\"#46039f\"],[0.2222222222222222,\"#7201a8\"],[0.3333333333333333,\"#9c179e\"],[0.4444444444444444,\"#bd3786\"],[0.5555555555555556,\"#d8576b\"],[0.6666666666666666,\"#ed7953\"],[0.7777777777777778,\"#fb9f3a\"],[0.8888888888888888,\"#fdca26\"],[1.0,\"#f0f921\"]],\"diverging\":[[0,\"#8e0152\"],[0.1,\"#c51b7d\"],[0.2,\"#de77ae\"],[0.3,\"#f1b6da\"],[0.4,\"#fde0ef\"],[0.5,\"#f7f7f7\"],[0.6,\"#e6f5d0\"],[0.7,\"#b8e186\"],[0.8,\"#7fbc41\"],[0.9,\"#4d9221\"],[1,\"#276419\"]]},\"xaxis\":{\"gridcolor\":\"white\",\"linecolor\":\"white\",\"ticks\":\"\",\"title\":{\"standoff\":15},\"zerolinecolor\":\"white\",\"automargin\":true,\"zerolinewidth\":2},\"yaxis\":{\"gridcolor\":\"white\",\"linecolor\":\"white\",\"ticks\":\"\",\"title\":{\"standoff\":15},\"zerolinecolor\":\"white\",\"automargin\":true,\"zerolinewidth\":2},\"scene\":{\"xaxis\":{\"backgroundcolor\":\"#E5ECF6\",\"gridcolor\":\"white\",\"linecolor\":\"white\",\"showbackground\":true,\"ticks\":\"\",\"zerolinecolor\":\"white\",\"gridwidth\":2},\"yaxis\":{\"backgroundcolor\":\"#E5ECF6\",\"gridcolor\":\"white\",\"linecolor\":\"white\",\"showbackground\":true,\"ticks\":\"\",\"zerolinecolor\":\"white\",\"gridwidth\":2},\"zaxis\":{\"backgroundcolor\":\"#E5ECF6\",\"gridcolor\":\"white\",\"linecolor\":\"white\",\"showbackground\":true,\"ticks\":\"\",\"zerolinecolor\":\"white\",\"gridwidth\":2}},\"shapedefaults\":{\"line\":{\"color\":\"#2a3f5f\"}},\"annotationdefaults\":{\"arrowcolor\":\"#2a3f5f\",\"arrowhead\":0,\"arrowwidth\":1},\"geo\":{\"bgcolor\":\"white\",\"landcolor\":\"#E5ECF6\",\"subunitcolor\":\"white\",\"showland\":true,\"showlakes\":true,\"lakecolor\":\"white\"},\"title\":{\"x\":0.05},\"mapbox\":{\"style\":\"light\"}}},\"title\":{\"text\":\"Daily Incidence\"},\"xaxis\":{\"title\":{\"text\":\"Day\"}},\"yaxis\":{\"title\":{\"text\":\"Daily Cases\"}},\"width\":700,\"height\":300},                        {\"responsive\": true}                    ).then(function(){\n",
       "                            \n",
       "var gd = document.getElementById('516f17a7-e2d2-4ea8-a7a8-0b6539935961');\n",
       "var x = new MutationObserver(function (mutations, observer) {{\n",
       "        var display = window.getComputedStyle(gd).display;\n",
       "        if (!display || display === 'none') {{\n",
       "            console.log([gd, 'removed!']);\n",
       "            Plotly.purge(gd);\n",
       "            observer.disconnect();\n",
       "        }}\n",
       "}});\n",
       "\n",
       "// Listen for the removal of the full notebook cells\n",
       "var notebookContainer = gd.closest('#notebook-container');\n",
       "if (notebookContainer) {{\n",
       "    x.observe(notebookContainer, {childList: true});\n",
       "}}\n",
       "\n",
       "// Listen for the clearing of the current output cell\n",
       "var outputEl = gd.closest('.output');\n",
       "if (outputEl) {{\n",
       "    x.observe(outputEl, {childList: true});\n",
       "}}\n",
       "\n",
       "                        })                };            </script>        </div>"
      ]
     },
     "metadata": {},
     "output_type": "display_data"
    }
   ],
   "source": [
    "def add_pie_chart(S, E, I, R, D, days):\n",
    "    # Valores finais\n",
    "    final_values = [S[-1], E[-1], I[-1], R[-1], D[-1]]\n",
    "    labels = ['Susceptible', 'Exposed', 'Infected', 'Recovered', 'Deaths']\n",
    "    colors = ['lightblue', 'orange', 'red', 'green', 'black']\n",
    "    \n",
    "    fig_pie = go.Figure(data=[go.Pie(labels=labels, values=final_values, \n",
    "                                     marker_colors=colors)])\n",
    "    fig_pie.update_layout(title=f'Population Distribution at Day {days}',\n",
    "                         width=400, height=400)\n",
    "    return fig_pie\n",
    "def calculate_metrics(S, E, I, R, D, beta, gamma, mu, initN):\n",
    "    # R0 (Número básico de reprodução)\n",
    "    R0 = beta / (gamma + mu)\n",
    "    \n",
    "    # Pico de infectados\n",
    "    peak_infected = max(I)\n",
    "    peak_day = np.argmax(I)\n",
    "    \n",
    "    # Taxa de ataque final\n",
    "    attack_rate = (initN - S[-1]) / initN * 100\n",
    "    \n",
    "    # Mortalidade final\n",
    "    mortality_rate = D[-1] / initN * 100\n",
    "    \n",
    "    return {\n",
    "        'R0': R0,\n",
    "        'Peak Infected': int(peak_infected),\n",
    "        'Peak Day': int(peak_day),\n",
    "        'Attack Rate (%)': round(attack_rate, 2),\n",
    "        'Mortality Rate (%)': round(mortality_rate, 4)\n",
    "    }\n",
    "def plot_daily_incidence(sol, tspan):\n",
    "    S, E, I, R, D = sol[:, 0], sol[:, 1], sol[:, 2], sol[:, 3], sol[:, 4]\n",
    "    \n",
    "    # Calcular novos casos diários\n",
    "    new_infections = np.diff(np.concatenate([[0], initN - S]))\n",
    "    new_deaths = np.diff(np.concatenate([[0], D]))\n",
    "    \n",
    "    fig = go.Figure()\n",
    "    fig.add_trace(go.Scatter(x=tspan[:-1], y=new_infections, \n",
    "                            mode='lines', name='New Infections'))\n",
    "    fig.add_trace(go.Scatter(x=tspan[:-1], y=new_deaths, \n",
    "                            mode='lines', name='New Deaths'))\n",
    "    \n",
    "    fig.update_layout(title='Daily Incidence',\n",
    "                     xaxis_title='Day',\n",
    "                     yaxis_title='Daily Cases',\n",
    "                     width=700, height=300)\n",
    "    return fig\n",
    "def main(initE, initI, initR, initD, initN, beta, sigma, gamma, mu, days):\n",
    "    initial_conditions = [initE, initI, initR, initN, initD]\n",
    "    params = [beta, sigma, gamma, mu]\n",
    "    tspan = np.arange(0, days, 1)\n",
    "    sol = ode_solver(tspan, initial_conditions, params)\n",
    "    S, E, I, R, D = sol[:, 0], sol[:, 1], sol[:, 2], sol[:, 3], sol[:, 4]\n",
    "    \n",
    "    # Gráfico principal\n",
    "    fig = go.Figure()\n",
    "    fig.add_trace(go.Scatter(x=tspan, y=S, mode='lines', name='Susceptible'))\n",
    "    fig.add_trace(go.Scatter(x=tspan, y=E, mode='lines', name='Exposed'))\n",
    "    fig.add_trace(go.Scatter(x=tspan, y=I, mode='lines', name='Infected'))\n",
    "    fig.add_trace(go.Scatter(x=tspan, y=R, mode='lines', name='Recovered'))\n",
    "    fig.add_trace(go.Scatter(x=tspan, y=D, mode='lines', name='Deaths'))\n",
    "    \n",
    "    if days <= 30:\n",
    "        step = 1\n",
    "    elif days <= 90:\n",
    "        step = 7\n",
    "    else:\n",
    "        step = 30\n",
    "    \n",
    "    fig.update_layout(title='SEIRD Model Simulation',\n",
    "                     xaxis_title='Day',\n",
    "                     yaxis_title='Population',\n",
    "                     width=800, height=400)\n",
    "    fig.update_xaxes(tickmode='array', tickvals=np.arange(0, days + 1, step))\n",
    "    fig.show()\n",
    "    \n",
    "    # Métricas importantes\n",
    "    metrics = calculate_metrics(S, E, I, R, D, beta, gamma, mu, initN)\n",
    "    print(\"\\n📊 Key Metrics:\")\n",
    "    for key, value in metrics.items():\n",
    "        print(f\"• {key}: {value}\")\n",
    "    \n",
    "    # Gráfico de pizza (distribuição final)\n",
    "    fig_pie = add_pie_chart(S, E, I, R, D, days)\n",
    "    fig_pie.show()\n",
    "    \n",
    "    # Incidência diária\n",
    "    if days > 7:  # Só mostrar se tiver dados suficientes\n",
    "        fig_inc = plot_daily_incidence(sol, tspan)\n",
    "        fig_inc.show()\n",
    "main(initE, initI, initR, initD, initN, beta, sigma, gamma, mu, days)\n"
   ]
  }
 ],
 "metadata": {
  "kernelspec": {
   "display_name": "Python 3",
   "language": "python",
   "name": "python3"
  },
  "language_info": {
   "codemirror_mode": {
    "name": "ipython",
    "version": 3
   },
   "file_extension": ".py",
   "mimetype": "text/x-python",
   "name": "python",
   "nbconvert_exporter": "python",
   "pygments_lexer": "ipython3",
   "version": "3.12.4"
  }
 },
 "nbformat": 4,
 "nbformat_minor": 5
}
